{
 "cells": [
  {
   "cell_type": "markdown",
   "id": "632997a7-1637-4990-9246-d4c30d7f3c51",
   "metadata": {},
   "source": [
    "## Attention Mechanisms\n",
    "1) Reasons for using attention in neural networks\n",
    "2) Basic self-attention and also self-attention\n",
    "3) Implementing Causal attention that allows LLM's to generate one token at a time\n",
    "4) Masking random selected attention weights with dropout to reduce overfitting\n",
    "5) Stacking multiple causal attention into a Multi-head attention module"
   ]
  },
  {
   "cell_type": "code",
   "execution_count": 1,
   "id": "e8b0b291-142e-45f9-91ee-3fdbedb3f32e",
   "metadata": {},
   "outputs": [],
   "source": [
    "import torch\n",
    "inputs = torch.tensor(\n",
    "    [[0.43, 0.15, 0.89],\n",
    "    [0.55, 0.87, 0.66],\n",
    "    [0.57, 0.85, 0.64],\n",
    "    [0.22, 0.58, 0.33],\n",
    "    [0.77, 0.25, 0.10],\n",
    "    [0.05, 0.80, 0.55]]\n",
    ")"
   ]
  },
  {
   "cell_type": "code",
   "execution_count": 2,
   "id": "b285a11c-81fa-4732-87d0-b30162f21bee",
   "metadata": {},
   "outputs": [
    {
     "name": "stdout",
     "output_type": "stream",
     "text": [
      "tensor([0.9544, 1.4950, 1.4754, 0.8434, 0.7070, 1.0865])\n"
     ]
    }
   ],
   "source": [
    "query = inputs[1]\n",
    "atten_scores2 = torch.empty(inputs.shape[0])\n",
    "for i, x_i in enumerate(inputs):\n",
    "    atten_scores2[i] = torch.dot(x_i, query)\n",
    "print(atten_scores2)"
   ]
  },
  {
   "cell_type": "code",
   "execution_count": 3,
   "id": "679ff3a3-e4ff-4316-9269-8312ed122bbb",
   "metadata": {},
   "outputs": [
    {
     "name": "stdout",
     "output_type": "stream",
     "text": [
      "attention weights:  tensor([0.1455, 0.2278, 0.2249, 0.1285, 0.1077, 0.1656])\n",
      "tensor(1.0000)\n"
     ]
    }
   ],
   "source": [
    "# normalizing the attention weights so they sum to 1\n",
    "atten_weights_2_tmp = atten_scores2 / atten_scores2.sum()\n",
    "print(\"attention weights: \", atten_weights_2_tmp)\n",
    "print(atten_weights_2_tmp.sum())"
   ]
  },
  {
   "cell_type": "code",
   "execution_count": 4,
   "id": "de0f9807-7cd2-49d3-a1f5-28866da5fe6c",
   "metadata": {},
   "outputs": [
    {
     "name": "stdout",
     "output_type": "stream",
     "text": [
      "Attention weights naive:  tensor([0.1385, 0.2379, 0.2333, 0.1240, 0.1082, 0.1581])\n",
      "tensor(1.)\n"
     ]
    }
   ],
   "source": [
    "# using softmax to do normalization\n",
    "def softmax_naive(x):\n",
    "    return torch.exp(x) / (torch.exp(x).sum(dim=0))\n",
    "\n",
    "atten_weights_2_naive = softmax_naive(atten_scores2)\n",
    "print(\"Attention weights naive: \", atten_weights_2_naive)\n",
    "print(atten_weights_2_naive.sum())"
   ]
  },
  {
   "cell_type": "code",
   "execution_count": 5,
   "id": "86aa101f-7e4d-4244-8cf0-213259892eba",
   "metadata": {},
   "outputs": [
    {
     "name": "stdout",
     "output_type": "stream",
     "text": [
      "Attention weights torch.softmax:  tensor([0.1385, 0.2379, 0.2333, 0.1240, 0.1082, 0.1581])\n",
      "tensor(1.)\n"
     ]
    }
   ],
   "source": [
    "# using the inbuilt torch.softmax\n",
    "atten_weights_2 = torch.softmax(atten_scores2, dim=0)\n",
    "print(\"Attention weights torch.softmax: \", atten_weights_2)\n",
    "print(atten_weights_2.sum())"
   ]
  },
  {
   "cell_type": "code",
   "execution_count": 6,
   "id": "6ec557ec-5e01-4ef8-919e-0c9df21e7415",
   "metadata": {},
   "outputs": [
    {
     "name": "stdout",
     "output_type": "stream",
     "text": [
      "tensor([0.4419, 0.6515, 0.5683])\n"
     ]
    }
   ],
   "source": [
    "query = inputs[1]\n",
    "context_vec_2 = torch.zeros(query.shape)\n",
    "for i, x_i in enumerate(inputs):\n",
    "    context_vec_2 += atten_weights_2[i] * x_i\n",
    "print(context_vec_2)"
   ]
  },
  {
   "cell_type": "code",
   "execution_count": 7,
   "id": "36d26acc-609e-4ff0-9784-c1550f0a8b9d",
   "metadata": {},
   "outputs": [
    {
     "name": "stdout",
     "output_type": "stream",
     "text": [
      "tensor([[0.9995, 0.9544, 0.9422, 0.4753, 0.4576, 0.6310],\n",
      "        [0.9544, 1.4950, 1.4754, 0.8434, 0.7070, 1.0865],\n",
      "        [0.9422, 1.4754, 1.4570, 0.8296, 0.7154, 1.0605],\n",
      "        [0.4753, 0.8434, 0.8296, 0.4937, 0.3474, 0.6565],\n",
      "        [0.4576, 0.7070, 0.7154, 0.3474, 0.6654, 0.2935],\n",
      "        [0.6310, 1.0865, 1.0605, 0.6565, 0.2935, 0.9450]])\n"
     ]
    }
   ],
   "source": [
    "attention_scores = torch.empty(6,6)\n",
    "for i, x_i in enumerate(inputs):\n",
    "    for j, x_j in enumerate(inputs):\n",
    "        attention_scores[i,j] = torch.dot(x_i, x_j)\n",
    "\n",
    "print(attention_scores)"
   ]
  },
  {
   "cell_type": "code",
   "execution_count": 8,
   "id": "2076bae3-fc97-4fda-b311-d67213d8a840",
   "metadata": {},
   "outputs": [
    {
     "name": "stdout",
     "output_type": "stream",
     "text": [
      "tensor([[0.9995, 0.9544, 0.9422, 0.4753, 0.4576, 0.6310],\n",
      "        [0.9544, 1.4950, 1.4754, 0.8434, 0.7070, 1.0865],\n",
      "        [0.9422, 1.4754, 1.4570, 0.8296, 0.7154, 1.0605],\n",
      "        [0.4753, 0.8434, 0.8296, 0.4937, 0.3474, 0.6565],\n",
      "        [0.4576, 0.7070, 0.7154, 0.3474, 0.6654, 0.2935],\n",
      "        [0.6310, 1.0865, 1.0605, 0.6565, 0.2935, 0.9450]])\n"
     ]
    }
   ],
   "source": [
    "attention_scores_2 = inputs @ inputs.T\n",
    "print(attention_scores_2)"
   ]
  },
  {
   "cell_type": "code",
   "execution_count": 9,
   "id": "21163b51-da62-413e-8824-a410673d5065",
   "metadata": {},
   "outputs": [
    {
     "name": "stdout",
     "output_type": "stream",
     "text": [
      "tensor([[0.2098, 0.2006, 0.1981, 0.1242, 0.1220, 0.1452],\n",
      "        [0.1385, 0.2379, 0.2333, 0.1240, 0.1082, 0.1581],\n",
      "        [0.1390, 0.2369, 0.2326, 0.1242, 0.1108, 0.1565],\n",
      "        [0.1435, 0.2074, 0.2046, 0.1462, 0.1263, 0.1720],\n",
      "        [0.1526, 0.1958, 0.1975, 0.1367, 0.1879, 0.1295],\n",
      "        [0.1385, 0.2184, 0.2128, 0.1420, 0.0988, 0.1896]])\n"
     ]
    }
   ],
   "source": [
    "attention_weights = torch.softmax(attention_scores_2, dim=1)\n",
    "print(attention_weights)"
   ]
  },
  {
   "cell_type": "code",
   "execution_count": 10,
   "id": "a46d73d8-81bb-4569-af8f-29753207e780",
   "metadata": {},
   "outputs": [
    {
     "name": "stdout",
     "output_type": "stream",
     "text": [
      "Row 2 Sum:  1.0\n",
      "ALL Rows sums:  tensor([1.0000, 1.0000, 1.0000, 1.0000, 1.0000, 1.0000])\n"
     ]
    }
   ],
   "source": [
    "row_2_sum = sum([0.1385, 0.2379, 0.2333, 0.1240, 0.1082, 0.1581])\n",
    "print(\"Row 2 Sum: \", row_2_sum)\n",
    "print(\"ALL Rows sums: \", attention_weights.sum(dim=1))"
   ]
  },
  {
   "cell_type": "code",
   "execution_count": 11,
   "id": "782d143d-d103-4664-8d5e-da6f5462049f",
   "metadata": {},
   "outputs": [
    {
     "name": "stdout",
     "output_type": "stream",
     "text": [
      "tensor([[0.4421, 0.5931, 0.5790],\n",
      "        [0.4419, 0.6515, 0.5683],\n",
      "        [0.4431, 0.6496, 0.5671],\n",
      "        [0.4304, 0.6298, 0.5510],\n",
      "        [0.4671, 0.5910, 0.5266],\n",
      "        [0.4177, 0.6503, 0.5645]])\n"
     ]
    }
   ],
   "source": [
    "all_context_vecs = attention_weights @ inputs\n",
    "print(all_context_vecs)"
   ]
  },
  {
   "cell_type": "markdown",
   "id": "c45d1229-14c2-45fe-a623-5119e8525728",
   "metadata": {},
   "source": [
    "### Computing weighted attention"
   ]
  },
  {
   "cell_type": "code",
   "execution_count": 12,
   "id": "afbd3eb1-2c79-490e-9c9d-6ad8a869c8fb",
   "metadata": {},
   "outputs": [],
   "source": [
    "x_2 = inputs[1]\n",
    "d_in = inputs.shape[1]\n",
    "d_out = 2"
   ]
  },
  {
   "cell_type": "code",
   "execution_count": 13,
   "id": "72e82891-9c9f-4070-99c6-8e2089acfd19",
   "metadata": {},
   "outputs": [],
   "source": [
    "torch.manual_seed(123)\n",
    "w_query = torch.nn.Parameter(torch.rand(d_in, d_out), requires_grad=False)\n",
    "w_key = torch.nn.Parameter(torch.rand(d_in, d_out), requires_grad=False)\n",
    "w_value = torch.nn.Parameter(torch.rand(d_in, d_out), requires_grad=False)"
   ]
  },
  {
   "cell_type": "code",
   "execution_count": 14,
   "id": "75805bbf-0978-41c0-92bc-55e58bf4517d",
   "metadata": {},
   "outputs": [
    {
     "name": "stdout",
     "output_type": "stream",
     "text": [
      "Parameter containing:\n",
      "tensor([[0.2961, 0.5166],\n",
      "        [0.2517, 0.6886],\n",
      "        [0.0740, 0.8665]])\n"
     ]
    }
   ],
   "source": [
    "print(w_query)"
   ]
  },
  {
   "cell_type": "code",
   "execution_count": 15,
   "id": "7b9bea75-d1a5-4e41-b2ac-5ba4797c5ca4",
   "metadata": {},
   "outputs": [
    {
     "name": "stdout",
     "output_type": "stream",
     "text": [
      "tensor([0.5500, 0.8700, 0.6600])\n"
     ]
    }
   ],
   "source": [
    "print(x_2)"
   ]
  },
  {
   "cell_type": "code",
   "execution_count": 16,
   "id": "a5bc784e-6030-4bed-a9df-8a9de4d80d34",
   "metadata": {},
   "outputs": [
    {
     "name": "stdout",
     "output_type": "stream",
     "text": [
      "tensor([0.4306, 1.4551])\n"
     ]
    }
   ],
   "source": [
    "query_2 = x_2 @ w_query\n",
    "key_2 = x_2 @ w_key\n",
    "value_2 = x_2 @ w_value\n",
    "print(query_2)"
   ]
  },
  {
   "cell_type": "code",
   "execution_count": 17,
   "id": "37336300-18be-42f1-a8f2-2d5697cb630a",
   "metadata": {},
   "outputs": [
    {
     "name": "stdout",
     "output_type": "stream",
     "text": [
      "Keys shape:  torch.Size([6, 2])\n",
      "Value shape:  torch.Size([6, 2])\n"
     ]
    }
   ],
   "source": [
    "keys = inputs @ w_key\n",
    "values = inputs @ w_value\n",
    "print(\"Keys shape: \", keys.shape)\n",
    "print(\"Value shape: \", values.shape)"
   ]
  },
  {
   "cell_type": "code",
   "execution_count": 18,
   "id": "0e1a958b-4b58-4610-b008-e228232e2c2b",
   "metadata": {},
   "outputs": [
    {
     "name": "stdout",
     "output_type": "stream",
     "text": [
      "tensor([[0.3669, 0.7646],\n",
      "        [0.4433, 1.1419],\n",
      "        [0.4361, 1.1156],\n",
      "        [0.2408, 0.6706],\n",
      "        [0.1827, 0.3292],\n",
      "        [0.3275, 0.9642]])\n"
     ]
    }
   ],
   "source": [
    "print(keys)"
   ]
  },
  {
   "cell_type": "code",
   "execution_count": 19,
   "id": "3143044a-0889-4c81-9012-529b480bc49d",
   "metadata": {},
   "outputs": [
    {
     "name": "stdout",
     "output_type": "stream",
     "text": [
      "tensor([[0.1855, 0.8812],\n",
      "        [0.3951, 1.0037],\n",
      "        [0.3879, 0.9831],\n",
      "        [0.2393, 0.5493],\n",
      "        [0.1492, 0.3346],\n",
      "        [0.3221, 0.7863]])\n"
     ]
    }
   ],
   "source": [
    "print(values)"
   ]
  },
  {
   "cell_type": "code",
   "execution_count": 20,
   "id": "e91bfb7c-0cbd-4ca7-b626-83c555447492",
   "metadata": {},
   "outputs": [
    {
     "name": "stdout",
     "output_type": "stream",
     "text": [
      "tensor(1.8524)\n"
     ]
    }
   ],
   "source": [
    "keys_2 = keys[1]\n",
    "atten_score_22 = query_2.dot(keys_2)\n",
    "print(atten_score_22)"
   ]
  },
  {
   "cell_type": "code",
   "execution_count": 21,
   "id": "ea23ddb8-67a3-4eff-b4b7-235c534f682e",
   "metadata": {},
   "outputs": [
    {
     "name": "stdout",
     "output_type": "stream",
     "text": [
      "tensor([1.2705, 1.8524, 1.8111, 1.0795, 0.5577, 1.5440])\n"
     ]
    }
   ],
   "source": [
    "# performing attention scores for all the values\n",
    "atten_scores_2 = query_2 @ keys.T\n",
    "print(atten_scores_2)"
   ]
  },
  {
   "cell_type": "code",
   "execution_count": 22,
   "id": "deb83073-cd8f-4a68-abb8-c16974ae8e4a",
   "metadata": {},
   "outputs": [
    {
     "name": "stdout",
     "output_type": "stream",
     "text": [
      "2\n"
     ]
    }
   ],
   "source": [
    "d_k = keys.shape[-1]\n",
    "print(d_k)"
   ]
  },
  {
   "cell_type": "code",
   "execution_count": 23,
   "id": "ccc352f8-30d8-42c0-b3f6-cff0d6b5e403",
   "metadata": {},
   "outputs": [
    {
     "name": "stdout",
     "output_type": "stream",
     "text": [
      "tensor([0.1500, 0.2264, 0.2199, 0.1311, 0.0906, 0.1820])\n"
     ]
    }
   ],
   "source": [
    "atten_weights_2 = torch.softmax(atten_scores_2 / (d_k**0.5), dim=-1)\n",
    "print(atten_weights_2)"
   ]
  },
  {
   "cell_type": "code",
   "execution_count": 24,
   "id": "7521442a-dfee-4e5d-802b-cb283828f232",
   "metadata": {},
   "outputs": [
    {
     "name": "stdout",
     "output_type": "stream",
     "text": [
      "tensor([0.3061, 0.8210])\n"
     ]
    }
   ],
   "source": [
    "context_vector_2 = atten_weights_2 @ values\n",
    "print(context_vector_2)"
   ]
  },
  {
   "cell_type": "markdown",
   "id": "b6135030-29f0-4c0b-bc24-8444cee1de15",
   "metadata": {},
   "source": [
    "### Implementing a self-attention class"
   ]
  },
  {
   "cell_type": "code",
   "execution_count": 25,
   "id": "cf1ddd85-9cea-4776-922f-b1278e32b3dc",
   "metadata": {},
   "outputs": [],
   "source": [
    "import torch.nn as nn\n",
    "class SelfAttention_v1(nn.Module):\n",
    "    def __init__(self, d_in, d_out):\n",
    "        super().__init__()\n",
    "        self.d_in = d_in\n",
    "        self.d_out = d_out\n",
    "        self.w_query = torch.nn.Parameter(torch.rand(d_in, d_out)) \n",
    "        self.w_keys = torch.nn.Parameter(torch.rand(d_in, d_out))\n",
    "        self.w_values = torch.nn.Parameter(torch.rand(d_in, d_out))\n",
    "        \n",
    "    def forward(self, x):\n",
    "        keys = x @ self.w_keys\n",
    "        values = x @ self.w_values\n",
    "        queries = x @ w_query\n",
    "        atten_scores = queries @ keys.T\n",
    "        atten_weights = torch.softmax(atten_scores / (keys.shape[-1]**0.5), dim=-1)\n",
    "        context_vector = atten_weights @ values\n",
    "        return context_vector"
   ]
  },
  {
   "cell_type": "code",
   "execution_count": 26,
   "id": "197f104b-78a3-4bc0-90de-14d0d78e0f92",
   "metadata": {},
   "outputs": [
    {
     "name": "stdout",
     "output_type": "stream",
     "text": [
      "tensor([[0.2996, 0.8053],\n",
      "        [0.3061, 0.8210],\n",
      "        [0.3058, 0.8203],\n",
      "        [0.2948, 0.7939],\n",
      "        [0.2927, 0.7891],\n",
      "        [0.2990, 0.8040]], grad_fn=<MmBackward0>)\n"
     ]
    }
   ],
   "source": [
    "torch.manual_seed(123)\n",
    "sa_v1 = SelfAttention_v1(d_in, d_out)\n",
    "print(sa_v1(inputs))"
   ]
  },
  {
   "cell_type": "code",
   "execution_count": 27,
   "id": "86e1d4a1-3035-4f83-87f1-803a8d6dff72",
   "metadata": {},
   "outputs": [],
   "source": [
    "class SelfAttention_v2(nn.Module):\n",
    "    def __init__(self, d_in, d_out, qkv_bias = False):\n",
    "        super().__init__()\n",
    "        self.d_in = d_in\n",
    "        self.d_out = d_out\n",
    "        self.w_query = nn.Linear(d_in, d_out, bias=qkv_bias)\n",
    "        self.w_key = nn.Linear(d_in, d_out, bias=qkv_bias)\n",
    "        self.w_value = nn.Linear(d_in, d_out, bias=qkv_bias)\n",
    "\n",
    "    def forward(self, x):\n",
    "        keys = self.w_key(x)\n",
    "        values = self.w_value(x)\n",
    "        query = self.w_query(x)\n",
    "        attention_scores = query @ keys.T\n",
    "        attention_weights = torch.softmax(attention_scores / (keys.shape[-1]**0.5), dim=-1)\n",
    "        context_vector = attention_weights @ values\n",
    "        return context_vector"
   ]
  },
  {
   "cell_type": "code",
   "execution_count": 28,
   "id": "ba84d802-0d2c-4519-a581-c358f707a8ca",
   "metadata": {},
   "outputs": [
    {
     "name": "stdout",
     "output_type": "stream",
     "text": [
      "tensor([[-0.0739,  0.0713],\n",
      "        [-0.0748,  0.0703],\n",
      "        [-0.0749,  0.0702],\n",
      "        [-0.0760,  0.0685],\n",
      "        [-0.0763,  0.0679],\n",
      "        [-0.0754,  0.0693]], grad_fn=<MmBackward0>)\n"
     ]
    }
   ],
   "source": [
    "torch.manual_seed(789)\n",
    "sa_v2 = SelfAttention_v2(d_in, d_out)\n",
    "print(sa_v2(inputs))"
   ]
  },
  {
   "cell_type": "markdown",
   "id": "3fe6756d-2cd0-4b61-9687-8d72e0202555",
   "metadata": {},
   "source": [
    "### Applying causal attention mask\n",
    "1) Why do we need causal attention mask?:- we need this to make sure the llm is not seeing the future tokens while training, this masking\n",
    "   helps us in not exposing the future tokens, Hence with this llm at any point can only have access to the current and the previous token."
   ]
  },
  {
   "cell_type": "code",
   "execution_count": 29,
   "id": "fff631f3-924d-48c8-b087-9f3af3545a09",
   "metadata": {},
   "outputs": [],
   "source": [
    "### Information leak:- When we apply masking and then re-normalize the weights, it might initially appear that the information from the\n",
    "### Future tokens could still influence the current tokens because their values are part of the softmax. "
   ]
  },
  {
   "cell_type": "code",
   "execution_count": 30,
   "id": "0403fd54-23ea-4efd-9e06-2f49bfcb9680",
   "metadata": {},
   "outputs": [
    {
     "name": "stdout",
     "output_type": "stream",
     "text": [
      "tensor([[0.1921, 0.1646, 0.1652, 0.1550, 0.1721, 0.1510],\n",
      "        [0.2041, 0.1659, 0.1662, 0.1496, 0.1665, 0.1477],\n",
      "        [0.2036, 0.1659, 0.1662, 0.1498, 0.1664, 0.1480],\n",
      "        [0.1869, 0.1667, 0.1668, 0.1571, 0.1661, 0.1564],\n",
      "        [0.1830, 0.1669, 0.1670, 0.1588, 0.1658, 0.1585],\n",
      "        [0.1935, 0.1663, 0.1666, 0.1542, 0.1666, 0.1529]],\n",
      "       grad_fn=<SoftmaxBackward0>)\n"
     ]
    }
   ],
   "source": [
    "queries = sa_v2.w_query(inputs)\n",
    "keys = sa_v2.w_key(inputs)\n",
    "atten_scores = queries @ keys.T\n",
    "atten_weights = torch.softmax(atten_scores / (keys.shape[-1]**0.5), dim=1)\n",
    "print(atten_weights)"
   ]
  },
  {
   "cell_type": "code",
   "execution_count": 31,
   "id": "10cd8977-6ee6-4652-b164-d722335452d3",
   "metadata": {},
   "outputs": [
    {
     "name": "stdout",
     "output_type": "stream",
     "text": [
      "tensor([[1., 0., 0., 0., 0., 0.],\n",
      "        [1., 1., 0., 0., 0., 0.],\n",
      "        [1., 1., 1., 0., 0., 0.],\n",
      "        [1., 1., 1., 1., 0., 0.],\n",
      "        [1., 1., 1., 1., 1., 0.],\n",
      "        [1., 1., 1., 1., 1., 1.]])\n"
     ]
    }
   ],
   "source": [
    "context_length = atten_scores.shape[0]\n",
    "mask_simple = torch.tril(torch.ones(context_length, context_length))\n",
    "print(mask_simple)"
   ]
  },
  {
   "cell_type": "code",
   "execution_count": 32,
   "id": "0269c9f6-63f6-4f95-a7a8-bbfe55c48494",
   "metadata": {},
   "outputs": [
    {
     "name": "stdout",
     "output_type": "stream",
     "text": [
      "tensor([[0.1921, 0.0000, 0.0000, 0.0000, 0.0000, 0.0000],\n",
      "        [0.2041, 0.1659, 0.0000, 0.0000, 0.0000, 0.0000],\n",
      "        [0.2036, 0.1659, 0.1662, 0.0000, 0.0000, 0.0000],\n",
      "        [0.1869, 0.1667, 0.1668, 0.1571, 0.0000, 0.0000],\n",
      "        [0.1830, 0.1669, 0.1670, 0.1588, 0.1658, 0.0000],\n",
      "        [0.1935, 0.1663, 0.1666, 0.1542, 0.1666, 0.1529]],\n",
      "       grad_fn=<MulBackward0>)\n"
     ]
    }
   ],
   "source": [
    "masked_simple = mask_simple * atten_weights\n",
    "print(masked_simple)"
   ]
  },
  {
   "cell_type": "code",
   "execution_count": 33,
   "id": "a51d2abf-799c-4ce3-81a4-9099d3a38a39",
   "metadata": {},
   "outputs": [
    {
     "name": "stdout",
     "output_type": "stream",
     "text": [
      "tensor([[1.0000, 0.0000, 0.0000, 0.0000, 0.0000, 0.0000],\n",
      "        [0.5517, 0.4483, 0.0000, 0.0000, 0.0000, 0.0000],\n",
      "        [0.3800, 0.3097, 0.3103, 0.0000, 0.0000, 0.0000],\n",
      "        [0.2758, 0.2460, 0.2462, 0.2319, 0.0000, 0.0000],\n",
      "        [0.2175, 0.1983, 0.1984, 0.1888, 0.1971, 0.0000],\n",
      "        [0.1935, 0.1663, 0.1666, 0.1542, 0.1666, 0.1529]],\n",
      "       grad_fn=<DivBackward0>)\n"
     ]
    }
   ],
   "source": [
    "# Normalizing the masked_simple atten_weights\n",
    "row_sums = masked_simple.sum(dim=1, keepdims=True)\n",
    "normalized_masked_simple = masked_simple / row_sums\n",
    "print(normalized_masked_simple)"
   ]
  },
  {
   "cell_type": "code",
   "execution_count": 34,
   "id": "3c290178-21f2-4d59-887b-bf6afb494e75",
   "metadata": {},
   "outputs": [
    {
     "name": "stdout",
     "output_type": "stream",
     "text": [
      "tensor([[0.2899,   -inf,   -inf,   -inf,   -inf,   -inf],\n",
      "        [0.4656, 0.1723,   -inf,   -inf,   -inf,   -inf],\n",
      "        [0.4594, 0.1703, 0.1731,   -inf,   -inf,   -inf],\n",
      "        [0.2642, 0.1024, 0.1036, 0.0186,   -inf,   -inf],\n",
      "        [0.2183, 0.0874, 0.0882, 0.0177, 0.0786,   -inf],\n",
      "        [0.3408, 0.1270, 0.1290, 0.0198, 0.1290, 0.0078]],\n",
      "       grad_fn=<MaskedFillBackward0>)\n"
     ]
    }
   ],
   "source": [
    "# Better way to do this is we can use softmax because it gives the probability distribution, softmax(-inf) is always zero.\n",
    "mask = torch.triu(torch.ones(context_length, context_length), diagonal=1)\n",
    "masked = atten_scores.masked_fill(mask.bool(), -torch.inf)\n",
    "print(masked)"
   ]
  },
  {
   "cell_type": "code",
   "execution_count": 35,
   "id": "a9a67dc0-7393-49c3-ab68-1b48a1789f9c",
   "metadata": {},
   "outputs": [
    {
     "name": "stdout",
     "output_type": "stream",
     "text": [
      "tensor([[1.0000, 0.0000, 0.0000, 0.0000, 0.0000, 0.0000],\n",
      "        [0.5517, 0.4483, 0.0000, 0.0000, 0.0000, 0.0000],\n",
      "        [0.3800, 0.3097, 0.3103, 0.0000, 0.0000, 0.0000],\n",
      "        [0.2758, 0.2460, 0.2462, 0.2319, 0.0000, 0.0000],\n",
      "        [0.2175, 0.1983, 0.1984, 0.1888, 0.1971, 0.0000],\n",
      "        [0.1935, 0.1663, 0.1666, 0.1542, 0.1666, 0.1529]],\n",
      "       grad_fn=<SoftmaxBackward0>)\n"
     ]
    }
   ],
   "source": [
    "attention_weights_masked_softmax = torch.softmax(masked / (keys.shape[-1]**0.5), dim=1)\n",
    "print(attention_weights_masked_softmax)"
   ]
  },
  {
   "cell_type": "code",
   "execution_count": 36,
   "id": "6739cf82-2d2f-4c3f-b9d7-050fa189be26",
   "metadata": {},
   "outputs": [
    {
     "name": "stdout",
     "output_type": "stream",
     "text": [
      "tensor([[0.1855, 0.8812],\n",
      "        [0.2795, 0.9361],\n",
      "        [0.3133, 0.9508],\n",
      "        [0.2994, 0.8595],\n",
      "        [0.2702, 0.7554],\n",
      "        [0.2772, 0.7618]], grad_fn=<MmBackward0>)\n"
     ]
    }
   ],
   "source": [
    "context_vector = attention_weights_masked_softmax @ values\n",
    "print(context_vector)"
   ]
  },
  {
   "cell_type": "markdown",
   "id": "2a4f979f-bfc7-404c-b4f9-14512b2fadac",
   "metadata": {},
   "source": [
    "### Masking additional attention weights with dropout\n",
    "1) Why do we use dropout:- We use it to reduce overfitting during training of the LLM.\n",
    "2) What is dropout:- It is a deep learning technique, where randomly selected hidden layer units are ignored during training."
   ]
  },
  {
   "cell_type": "code",
   "execution_count": 37,
   "id": "d8488735-e1b3-4624-868f-e199af99bad6",
   "metadata": {},
   "outputs": [
    {
     "name": "stdout",
     "output_type": "stream",
     "text": [
      "tensor([[2., 2., 0., 2., 2., 0.],\n",
      "        [0., 0., 0., 2., 0., 2.],\n",
      "        [2., 2., 2., 2., 0., 2.],\n",
      "        [0., 2., 2., 0., 0., 2.],\n",
      "        [0., 2., 0., 2., 0., 2.],\n",
      "        [0., 2., 2., 2., 2., 0.]])\n"
     ]
    }
   ],
   "source": [
    "torch.manual_seed(123)\n",
    "dropout = torch.nn.Dropout(0.5)\n",
    "example = torch.ones(6,6)\n",
    "print(dropout(example))"
   ]
  },
  {
   "cell_type": "markdown",
   "id": "4253b708-2cc5-4495-99ab-8e20ed79f5bd",
   "metadata": {},
   "source": [
    "### In the above output we use ones matrix but the values in the output are 2's.\n",
    "1) Why is the output contains 2 and not one? It is because when we are dropping the units we need to balance the weights hence, all the\n",
    "   other values are scaled by 1 / 0.5 which is 2."
   ]
  },
  {
   "cell_type": "code",
   "execution_count": 38,
   "id": "465b69b4-7333-47f9-aa3a-a7d39cdd3172",
   "metadata": {},
   "outputs": [
    {
     "name": "stdout",
     "output_type": "stream",
     "text": [
      "tensor([[2.0000, 0.0000, 0.0000, 0.0000, 0.0000, 0.0000],\n",
      "        [0.0000, 0.0000, 0.0000, 0.0000, 0.0000, 0.0000],\n",
      "        [0.7599, 0.6194, 0.6206, 0.0000, 0.0000, 0.0000],\n",
      "        [0.0000, 0.4921, 0.4925, 0.0000, 0.0000, 0.0000],\n",
      "        [0.0000, 0.3966, 0.0000, 0.3775, 0.0000, 0.0000],\n",
      "        [0.0000, 0.3327, 0.3331, 0.3084, 0.3331, 0.0000]],\n",
      "       grad_fn=<MulBackward0>)\n"
     ]
    }
   ],
   "source": [
    "torch.manual_seed(123)\n",
    "print(dropout(attention_weights_masked_softmax))"
   ]
  },
  {
   "cell_type": "markdown",
   "id": "815bf268-256a-4139-a39b-2e66669b5114",
   "metadata": {},
   "source": [
    "### Implementing  a compact causal attention class"
   ]
  },
  {
   "cell_type": "code",
   "execution_count": 39,
   "id": "284dbff6-c7c8-4863-9626-d42875c55d02",
   "metadata": {},
   "outputs": [
    {
     "name": "stdout",
     "output_type": "stream",
     "text": [
      "torch.Size([2, 6, 3])\n"
     ]
    }
   ],
   "source": [
    "batch = torch.stack((inputs, inputs), dim=0)\n",
    "print(batch.shape)"
   ]
  },
  {
   "cell_type": "code",
   "execution_count": 40,
   "id": "19fb97b5-55f4-4db1-abeb-3d3cc4dfd999",
   "metadata": {},
   "outputs": [],
   "source": [
    "class causal_selfattention(nn.Module):\n",
    "    def __init__(self, d_in, d_out, context_length, dropout, qkv_bias = False):\n",
    "        super().__init__()\n",
    "        self.d_in = d_in\n",
    "        self.d_out = d_out\n",
    "        self.w_query = nn.Linear(d_in, d_out, bias=qkv_bias)\n",
    "        self.w_key = nn.Linear(d_in, d_out, bias=qkv_bias)\n",
    "        self.w_value = nn.Linear(d_in, d_out, bias=qkv_bias)\n",
    "        self.dropout = nn.Dropout(dropout) ## adding the dropout layer\n",
    "        self.register_buffer(\n",
    "            \"mask\",\n",
    "            torch.triu(torch.ones(context_length, context_length), diagonal=1)\n",
    "        )\n",
    "        \n",
    "\n",
    "    def forward(self, x):\n",
    "        b, num_tokens, d_in = x.shape\n",
    "        keys = self.w_key(x)\n",
    "        query = self.w_query(x)\n",
    "        value = self.w_value(x)\n",
    "        attention_scores = query @ keys.transpose(1,2)\n",
    "        attention_scores.masked_fill_(self.mask.bool()[:num_tokens, :num_tokens], -torch.inf)\n",
    "        attention_weights = torch.softmax(attention_scores / (keys.shape[-1]**0.5), dim=1)\n",
    "        attention_weights = self.dropout(attention_weights)\n",
    "        context_vector = attention_weights @ value\n",
    "        return context_vector"
   ]
  },
  {
   "cell_type": "code",
   "execution_count": 41,
   "id": "44439f36-0c8d-4ea5-96cf-0ba0703f1cf7",
   "metadata": {},
   "outputs": [
    {
     "name": "stdout",
     "output_type": "stream",
     "text": [
      "context_vecs.shape:  torch.Size([2, 6, 2])\n"
     ]
    }
   ],
   "source": [
    "torch.manual_seed(123)\n",
    "context_length = batch.shape[1]\n",
    "csa_v2 = causal_selfattention(d_in, d_out, context_length, 0.0)\n",
    "context_vecs = csa_v2(batch)\n",
    "print(\"context_vecs.shape: \", context_vecs.shape)"
   ]
  },
  {
   "cell_type": "markdown",
   "id": "1a64ad40-26a1-4563-aaa0-6f04ad2fcf15",
   "metadata": {},
   "source": [
    "### Multi-head attention"
   ]
  },
  {
   "cell_type": "code",
   "execution_count": 50,
   "id": "052dda18-3a38-401c-8101-db7f64d291b9",
   "metadata": {},
   "outputs": [],
   "source": [
    "class multiheadattentionwrapper(nn.Module):\n",
    "    def __init__(self,d_in, d_out, num_heads, context_length, dropout, qkv_bias=False):\n",
    "        super().__init__()\n",
    "        self.heads = nn.ModuleList([\n",
    "            causal_selfattention(d_in, d_out, context_length, qkv_bias, dropout)\n",
    "            for _ in range(num_heads)\n",
    "        ])\n",
    "\n",
    "    def forward(self, x):\n",
    "        return torch.cat([head(x) for head in self.heads], dim=-1)"
   ]
  },
  {
   "cell_type": "code",
   "execution_count": 53,
   "id": "e5bdb5e8-2dc0-4042-80ae-fbb2b73c47d6",
   "metadata": {},
   "outputs": [
    {
     "name": "stdout",
     "output_type": "stream",
     "text": [
      "tensor([[[-0.0844,  0.0414,  0.0766,  0.0171],\n",
      "         [-0.2264, -0.0039,  0.2143,  0.1185],\n",
      "         [-0.4163, -0.0564,  0.3878,  0.2453],\n",
      "         [-0.5014, -0.1011,  0.4992,  0.3401],\n",
      "         [-0.7754, -0.1867,  0.7387,  0.4868],\n",
      "         [-1.1632, -0.3303,  1.1224,  0.8460]],\n",
      "\n",
      "        [[-0.0844,  0.0414,  0.0766,  0.0171],\n",
      "         [-0.2264, -0.0039,  0.2143,  0.1185],\n",
      "         [-0.4163, -0.0564,  0.3878,  0.2453],\n",
      "         [-0.5014, -0.1011,  0.4992,  0.3401],\n",
      "         [-0.7754, -0.1867,  0.7387,  0.4868],\n",
      "         [-1.1632, -0.3303,  1.1224,  0.8460]]], grad_fn=<CatBackward0>)\n",
      "context_vecs_shape:  torch.Size([2, 6, 4])\n"
     ]
    }
   ],
   "source": [
    "torch.manual_seed(123)\n",
    "context_length = batch.shape[1] # number of tokens\n",
    "d_in, d_out = 3, 2\n",
    "mha = multiheadattentionwrapper(d_in, d_out, context_length=context_length, dropout=0.0, num_heads=2)\n",
    "context_vecs = mha(batch)\n",
    "\n",
    "print(context_vecs)\n",
    "print(\"context_vecs_shape: \", context_vecs.shape)"
   ]
  },
  {
   "cell_type": "markdown",
   "id": "fc87390d-4f20-44e1-b5fd-92ab7af46121",
   "metadata": {},
   "source": [
    "### Implementing multi-head attention with weight splits"
   ]
  },
  {
   "cell_type": "code",
   "execution_count": 91,
   "id": "bfb0f63c-bcb9-4788-b04b-56da01421ab4",
   "metadata": {},
   "outputs": [],
   "source": [
    "class MultiHeadAttention(nn.Module):\n",
    "    def __init__(self, d_in, d_out, context_length, num_heads, dropout, qkv_bias=False):\n",
    "        super().__init__()\n",
    "        assert d_out % num_heads == 0\n",
    "        self.d_in = d_in\n",
    "        self.d_out = d_out\n",
    "        self.head_dim = d_out // num_heads\n",
    "        self.num_heads = num_heads\n",
    "        self.w_query = nn.Linear(d_in, d_out, bias=qkv_bias)\n",
    "        self.w_key = nn.Linear(d_in, d_out, bias=qkv_bias)\n",
    "        self.w_value = nn.Linear(d_in, d_out, bias=qkv_bias)\n",
    "        self.dropout = nn.Dropout(dropout)\n",
    "        self.out_proj = nn.Linear(d_out, d_out)\n",
    "        self.register_buffer(\n",
    "            \"mask\",\n",
    "            torch.triu(torch.ones(context_length, context_length), diagonal=1)\n",
    "        )\n",
    "\n",
    "    def forward(self, x):\n",
    "        b, num_tokens, d_in = x.shape\n",
    "        print(b, \" \", num_tokens, \" \", d_in)\n",
    "        keys = self.w_key(x)\n",
    "        values = self.w_value(x)\n",
    "        query = self.w_query(x)\n",
    "        print(\"Before View\")\n",
    "        print(\"keys.shape: \", keys.shape)\n",
    "        print(\"values.shape: \", values.shape)\n",
    "        print(\"queries.shape: \", query.shape)\n",
    "        \n",
    "        keys = keys.view(b, num_tokens, self.num_heads, self.head_dim)\n",
    "        values = values.view(b, num_tokens, self.num_heads, self.head_dim)\n",
    "        query = query.view(b, num_tokens, self.num_heads, self.head_dim)\n",
    "        print(\"After View\")\n",
    "        print(\"keys.shape: \", keys.shape)\n",
    "        print(\"values.shape: \", values.shape)\n",
    "        print(\"queries.shape: \", query.shape)\n",
    "\n",
    "        print(\"keys: \", keys)\n",
    "        print(\"values: \", values)\n",
    "        print(\"query: \", query)\n",
    "        \n",
    "        keys = keys.transpose(1,2)\n",
    "        values = values.transpose(1,2)\n",
    "        query = query.transpose(1,2)\n",
    "        print(\"keys: \", keys)\n",
    "        print(\"values: \", values)\n",
    "        print(\"query: \", query)\n",
    "\n",
    "        attention_scores = query @ keys.transpose(2,3)\n",
    "        attention_scores.masked_fill_(self.mask.bool()[:num_tokens, :num_tokens], -torch.inf)\n",
    "\n",
    "        attention_weights = torch.softmax(attention_scores / (keys.shape[-1]**0.5), dim=-1)\n",
    "        attention_weights = self.dropout(attention_weights)\n",
    "\n",
    "        context_vec = (attention_weights @ values).transpose(1,2)\n",
    "\n",
    "        context_vec = context_vec.contiguous().view(b, num_tokens, self.d_out)\n",
    "        context_vec = self.out_proj(context_vec)\n",
    "        return context_vec"
   ]
  },
  {
   "cell_type": "code",
   "execution_count": 92,
   "id": "92f06b32-43d8-4629-b6e8-acbc9960dc2d",
   "metadata": {},
   "outputs": [
    {
     "name": "stdout",
     "output_type": "stream",
     "text": [
      "2   6   3\n",
      "Before View\n",
      "keys.shape:  torch.Size([2, 6, 2])\n",
      "values.shape:  torch.Size([2, 6, 2])\n",
      "queries.shape:  torch.Size([2, 6, 2])\n",
      "After View\n",
      "keys.shape:  torch.Size([2, 6, 2, 1])\n",
      "values.shape:  torch.Size([2, 6, 2, 1])\n",
      "queries.shape:  torch.Size([2, 6, 2, 1])\n",
      "keys:  tensor([[[[-0.5740],\n",
      "          [ 0.2727]],\n",
      "\n",
      "         [[-0.8709],\n",
      "          [ 0.1008]],\n",
      "\n",
      "         [[-0.8628],\n",
      "          [ 0.1060]],\n",
      "\n",
      "         [[-0.4789],\n",
      "          [ 0.0051]],\n",
      "\n",
      "         [[-0.4744],\n",
      "          [ 0.1696]],\n",
      "\n",
      "         [[-0.5888],\n",
      "          [-0.0388]]],\n",
      "\n",
      "\n",
      "        [[[-0.5740],\n",
      "          [ 0.2727]],\n",
      "\n",
      "         [[-0.8709],\n",
      "          [ 0.1008]],\n",
      "\n",
      "         [[-0.8628],\n",
      "          [ 0.1060]],\n",
      "\n",
      "         [[-0.4789],\n",
      "          [ 0.0051]],\n",
      "\n",
      "         [[-0.4744],\n",
      "          [ 0.1696]],\n",
      "\n",
      "         [[-0.5888],\n",
      "          [-0.0388]]]], grad_fn=<ViewBackward0>)\n",
      "values:  tensor([[[[-0.4519],\n",
      "          [ 0.2216]],\n",
      "\n",
      "         [[-0.7142],\n",
      "          [-0.1961]],\n",
      "\n",
      "         [[-0.7127],\n",
      "          [-0.1971]],\n",
      "\n",
      "         [[-0.3809],\n",
      "          [-0.1557]],\n",
      "\n",
      "         [[-0.4861],\n",
      "          [-0.1597]],\n",
      "\n",
      "         [[-0.4213],\n",
      "          [-0.1501]]],\n",
      "\n",
      "\n",
      "        [[[-0.4519],\n",
      "          [ 0.2216]],\n",
      "\n",
      "         [[-0.7142],\n",
      "          [-0.1961]],\n",
      "\n",
      "         [[-0.7127],\n",
      "          [-0.1971]],\n",
      "\n",
      "         [[-0.3809],\n",
      "          [-0.1557]],\n",
      "\n",
      "         [[-0.4861],\n",
      "          [-0.1597]],\n",
      "\n",
      "         [[-0.4213],\n",
      "          [-0.1501]]]], grad_fn=<ViewBackward0>)\n",
      "query:  tensor([[[[-0.3536],\n",
      "          [ 0.3965]],\n",
      "\n",
      "         [[-0.3021],\n",
      "          [-0.0289]],\n",
      "\n",
      "         [[-0.3015],\n",
      "          [-0.0232]],\n",
      "\n",
      "         [[-0.1353],\n",
      "          [-0.0978]],\n",
      "\n",
      "         [[-0.2052],\n",
      "          [ 0.0870]],\n",
      "\n",
      "         [[-0.1542],\n",
      "          [-0.1499]]],\n",
      "\n",
      "\n",
      "        [[[-0.3536],\n",
      "          [ 0.3965]],\n",
      "\n",
      "         [[-0.3021],\n",
      "          [-0.0289]],\n",
      "\n",
      "         [[-0.3015],\n",
      "          [-0.0232]],\n",
      "\n",
      "         [[-0.1353],\n",
      "          [-0.0978]],\n",
      "\n",
      "         [[-0.2052],\n",
      "          [ 0.0870]],\n",
      "\n",
      "         [[-0.1542],\n",
      "          [-0.1499]]]], grad_fn=<ViewBackward0>)\n",
      "keys:  tensor([[[[-0.5740],\n",
      "          [-0.8709],\n",
      "          [-0.8628],\n",
      "          [-0.4789],\n",
      "          [-0.4744],\n",
      "          [-0.5888]],\n",
      "\n",
      "         [[ 0.2727],\n",
      "          [ 0.1008],\n",
      "          [ 0.1060],\n",
      "          [ 0.0051],\n",
      "          [ 0.1696],\n",
      "          [-0.0388]]],\n",
      "\n",
      "\n",
      "        [[[-0.5740],\n",
      "          [-0.8709],\n",
      "          [-0.8628],\n",
      "          [-0.4789],\n",
      "          [-0.4744],\n",
      "          [-0.5888]],\n",
      "\n",
      "         [[ 0.2727],\n",
      "          [ 0.1008],\n",
      "          [ 0.1060],\n",
      "          [ 0.0051],\n",
      "          [ 0.1696],\n",
      "          [-0.0388]]]], grad_fn=<TransposeBackward0>)\n",
      "values:  tensor([[[[-0.4519],\n",
      "          [-0.7142],\n",
      "          [-0.7127],\n",
      "          [-0.3809],\n",
      "          [-0.4861],\n",
      "          [-0.4213]],\n",
      "\n",
      "         [[ 0.2216],\n",
      "          [-0.1961],\n",
      "          [-0.1971],\n",
      "          [-0.1557],\n",
      "          [-0.1597],\n",
      "          [-0.1501]]],\n",
      "\n",
      "\n",
      "        [[[-0.4519],\n",
      "          [-0.7142],\n",
      "          [-0.7127],\n",
      "          [-0.3809],\n",
      "          [-0.4861],\n",
      "          [-0.4213]],\n",
      "\n",
      "         [[ 0.2216],\n",
      "          [-0.1961],\n",
      "          [-0.1971],\n",
      "          [-0.1557],\n",
      "          [-0.1597],\n",
      "          [-0.1501]]]], grad_fn=<TransposeBackward0>)\n",
      "query:  tensor([[[[-0.3536],\n",
      "          [-0.3021],\n",
      "          [-0.3015],\n",
      "          [-0.1353],\n",
      "          [-0.2052],\n",
      "          [-0.1542]],\n",
      "\n",
      "         [[ 0.3965],\n",
      "          [-0.0289],\n",
      "          [-0.0232],\n",
      "          [-0.0978],\n",
      "          [ 0.0870],\n",
      "          [-0.1499]]],\n",
      "\n",
      "\n",
      "        [[[-0.3536],\n",
      "          [-0.3021],\n",
      "          [-0.3015],\n",
      "          [-0.1353],\n",
      "          [-0.2052],\n",
      "          [-0.1542]],\n",
      "\n",
      "         [[ 0.3965],\n",
      "          [-0.0289],\n",
      "          [-0.0232],\n",
      "          [-0.0978],\n",
      "          [ 0.0870],\n",
      "          [-0.1499]]]], grad_fn=<TransposeBackward0>)\n"
     ]
    }
   ],
   "source": [
    "torch.manual_seed(123)\n",
    "context_length = batch.shape[1] # number of tokens\n",
    "d_in, d_out = 3, 2\n",
    "mha = MultiHeadAttention(d_in, d_out, context_length, num_heads=2, dropout=0.0)\n",
    "context_vecs = mha(batch)"
   ]
  },
  {
   "cell_type": "code",
   "execution_count": 93,
   "id": "1fc09efc-50fb-4efc-82cb-44183ef03c91",
   "metadata": {},
   "outputs": [
    {
     "name": "stdout",
     "output_type": "stream",
     "text": [
      "tensor([[[0.3190, 0.4858],\n",
      "         [0.2943, 0.3897],\n",
      "         [0.2856, 0.3593],\n",
      "         [0.2693, 0.3873],\n",
      "         [0.2639, 0.3928],\n",
      "         [0.2575, 0.4028]],\n",
      "\n",
      "        [[0.3190, 0.4858],\n",
      "         [0.2943, 0.3897],\n",
      "         [0.2856, 0.3593],\n",
      "         [0.2693, 0.3873],\n",
      "         [0.2639, 0.3928],\n",
      "         [0.2575, 0.4028]]], grad_fn=<ViewBackward0>)\n"
     ]
    }
   ],
   "source": [
    "print(context_vecs)"
   ]
  },
  {
   "cell_type": "code",
   "execution_count": 94,
   "id": "fd797e33-7f92-44b0-86a1-1de7067218dc",
   "metadata": {
    "scrolled": true
   },
   "outputs": [
    {
     "name": "stdout",
     "output_type": "stream",
     "text": [
      "Tensor with ones:\n",
      " tensor([[[1., 1.],\n",
      "         [1., 1.],\n",
      "         [1., 1.],\n",
      "         [1., 1.],\n",
      "         [1., 1.],\n",
      "         [1., 1.]],\n",
      "\n",
      "        [[1., 1.],\n",
      "         [1., 1.],\n",
      "         [1., 1.],\n",
      "         [1., 1.],\n",
      "         [1., 1.],\n",
      "         [1., 1.]]])\n",
      "Tensor with ones after changing the view:\n",
      " tensor([[[[1.],\n",
      "          [1.]],\n",
      "\n",
      "         [[1.],\n",
      "          [1.]],\n",
      "\n",
      "         [[1.],\n",
      "          [1.]],\n",
      "\n",
      "         [[1.],\n",
      "          [1.]],\n",
      "\n",
      "         [[1.],\n",
      "          [1.]],\n",
      "\n",
      "         [[1.],\n",
      "          [1.]]],\n",
      "\n",
      "\n",
      "        [[[1.],\n",
      "          [1.]],\n",
      "\n",
      "         [[1.],\n",
      "          [1.]],\n",
      "\n",
      "         [[1.],\n",
      "          [1.]],\n",
      "\n",
      "         [[1.],\n",
      "          [1.]],\n",
      "\n",
      "         [[1.],\n",
      "          [1.]],\n",
      "\n",
      "         [[1.],\n",
      "          [1.]]]])\n",
      "Tensor with ones after changing the view and transposing:\n",
      " tensor([[[[1.],\n",
      "          [1.],\n",
      "          [1.],\n",
      "          [1.],\n",
      "          [1.],\n",
      "          [1.]],\n",
      "\n",
      "         [[1.],\n",
      "          [1.],\n",
      "          [1.],\n",
      "          [1.],\n",
      "          [1.],\n",
      "          [1.]]],\n",
      "\n",
      "\n",
      "        [[[1.],\n",
      "          [1.],\n",
      "          [1.],\n",
      "          [1.],\n",
      "          [1.],\n",
      "          [1.]],\n",
      "\n",
      "         [[1.],\n",
      "          [1.],\n",
      "          [1.],\n",
      "          [1.],\n",
      "          [1.],\n",
      "          [1.]]]])\n"
     ]
    }
   ],
   "source": [
    "tensor_ones = torch.ones(2, 6, 2)\n",
    "print(\"Tensor with ones:\\n\", tensor_ones)\n",
    "tensor_ones = tensor_ones.view(2, 6, 2, 1)\n",
    "print(\"Tensor with ones after changing the view:\\n\", tensor_ones)\n",
    "tensor_ones = tensor_ones.transpose(1,2)\n",
    "print(\"Tensor with ones after changing the view and transposing:\\n\", tensor_ones)"
   ]
  },
  {
   "cell_type": "code",
   "execution_count": 97,
   "id": "8eb36412-1efc-4762-8a8b-4e0683ab6a19",
   "metadata": {},
   "outputs": [
    {
     "name": "stdout",
     "output_type": "stream",
     "text": [
      "2   6   3\n",
      "Before View\n",
      "keys.shape:  torch.Size([2, 6, 2])\n",
      "values.shape:  torch.Size([2, 6, 2])\n",
      "queries.shape:  torch.Size([2, 6, 2])\n",
      "After View\n",
      "keys.shape:  torch.Size([2, 6, 2, 1])\n",
      "values.shape:  torch.Size([2, 6, 2, 1])\n",
      "queries.shape:  torch.Size([2, 6, 2, 1])\n",
      "keys:  tensor([[[[-0.5740],\n",
      "          [ 0.2727]],\n",
      "\n",
      "         [[-0.8709],\n",
      "          [ 0.1008]],\n",
      "\n",
      "         [[-0.8628],\n",
      "          [ 0.1060]],\n",
      "\n",
      "         [[-0.4789],\n",
      "          [ 0.0051]],\n",
      "\n",
      "         [[-0.4744],\n",
      "          [ 0.1696]],\n",
      "\n",
      "         [[-0.5888],\n",
      "          [-0.0388]]],\n",
      "\n",
      "\n",
      "        [[[-0.5740],\n",
      "          [ 0.2727]],\n",
      "\n",
      "         [[-0.8709],\n",
      "          [ 0.1008]],\n",
      "\n",
      "         [[-0.8628],\n",
      "          [ 0.1060]],\n",
      "\n",
      "         [[-0.4789],\n",
      "          [ 0.0051]],\n",
      "\n",
      "         [[-0.4744],\n",
      "          [ 0.1696]],\n",
      "\n",
      "         [[-0.5888],\n",
      "          [-0.0388]]]], grad_fn=<ViewBackward0>)\n",
      "values:  tensor([[[[-0.4519],\n",
      "          [ 0.2216]],\n",
      "\n",
      "         [[-0.7142],\n",
      "          [-0.1961]],\n",
      "\n",
      "         [[-0.7127],\n",
      "          [-0.1971]],\n",
      "\n",
      "         [[-0.3809],\n",
      "          [-0.1557]],\n",
      "\n",
      "         [[-0.4861],\n",
      "          [-0.1597]],\n",
      "\n",
      "         [[-0.4213],\n",
      "          [-0.1501]]],\n",
      "\n",
      "\n",
      "        [[[-0.4519],\n",
      "          [ 0.2216]],\n",
      "\n",
      "         [[-0.7142],\n",
      "          [-0.1961]],\n",
      "\n",
      "         [[-0.7127],\n",
      "          [-0.1971]],\n",
      "\n",
      "         [[-0.3809],\n",
      "          [-0.1557]],\n",
      "\n",
      "         [[-0.4861],\n",
      "          [-0.1597]],\n",
      "\n",
      "         [[-0.4213],\n",
      "          [-0.1501]]]], grad_fn=<ViewBackward0>)\n",
      "query:  tensor([[[[-0.3536],\n",
      "          [ 0.3965]],\n",
      "\n",
      "         [[-0.3021],\n",
      "          [-0.0289]],\n",
      "\n",
      "         [[-0.3015],\n",
      "          [-0.0232]],\n",
      "\n",
      "         [[-0.1353],\n",
      "          [-0.0978]],\n",
      "\n",
      "         [[-0.2052],\n",
      "          [ 0.0870]],\n",
      "\n",
      "         [[-0.1542],\n",
      "          [-0.1499]]],\n",
      "\n",
      "\n",
      "        [[[-0.3536],\n",
      "          [ 0.3965]],\n",
      "\n",
      "         [[-0.3021],\n",
      "          [-0.0289]],\n",
      "\n",
      "         [[-0.3015],\n",
      "          [-0.0232]],\n",
      "\n",
      "         [[-0.1353],\n",
      "          [-0.0978]],\n",
      "\n",
      "         [[-0.2052],\n",
      "          [ 0.0870]],\n",
      "\n",
      "         [[-0.1542],\n",
      "          [-0.1499]]]], grad_fn=<ViewBackward0>)\n",
      "keys:  tensor([[[[-0.5740],\n",
      "          [-0.8709],\n",
      "          [-0.8628],\n",
      "          [-0.4789],\n",
      "          [-0.4744],\n",
      "          [-0.5888]],\n",
      "\n",
      "         [[ 0.2727],\n",
      "          [ 0.1008],\n",
      "          [ 0.1060],\n",
      "          [ 0.0051],\n",
      "          [ 0.1696],\n",
      "          [-0.0388]]],\n",
      "\n",
      "\n",
      "        [[[-0.5740],\n",
      "          [-0.8709],\n",
      "          [-0.8628],\n",
      "          [-0.4789],\n",
      "          [-0.4744],\n",
      "          [-0.5888]],\n",
      "\n",
      "         [[ 0.2727],\n",
      "          [ 0.1008],\n",
      "          [ 0.1060],\n",
      "          [ 0.0051],\n",
      "          [ 0.1696],\n",
      "          [-0.0388]]]], grad_fn=<TransposeBackward0>)\n",
      "values:  tensor([[[[-0.4519],\n",
      "          [-0.7142],\n",
      "          [-0.7127],\n",
      "          [-0.3809],\n",
      "          [-0.4861],\n",
      "          [-0.4213]],\n",
      "\n",
      "         [[ 0.2216],\n",
      "          [-0.1961],\n",
      "          [-0.1971],\n",
      "          [-0.1557],\n",
      "          [-0.1597],\n",
      "          [-0.1501]]],\n",
      "\n",
      "\n",
      "        [[[-0.4519],\n",
      "          [-0.7142],\n",
      "          [-0.7127],\n",
      "          [-0.3809],\n",
      "          [-0.4861],\n",
      "          [-0.4213]],\n",
      "\n",
      "         [[ 0.2216],\n",
      "          [-0.1961],\n",
      "          [-0.1971],\n",
      "          [-0.1557],\n",
      "          [-0.1597],\n",
      "          [-0.1501]]]], grad_fn=<TransposeBackward0>)\n",
      "query:  tensor([[[[-0.3536],\n",
      "          [-0.3021],\n",
      "          [-0.3015],\n",
      "          [-0.1353],\n",
      "          [-0.2052],\n",
      "          [-0.1542]],\n",
      "\n",
      "         [[ 0.3965],\n",
      "          [-0.0289],\n",
      "          [-0.0232],\n",
      "          [-0.0978],\n",
      "          [ 0.0870],\n",
      "          [-0.1499]]],\n",
      "\n",
      "\n",
      "        [[[-0.3536],\n",
      "          [-0.3021],\n",
      "          [-0.3015],\n",
      "          [-0.1353],\n",
      "          [-0.2052],\n",
      "          [-0.1542]],\n",
      "\n",
      "         [[ 0.3965],\n",
      "          [-0.0289],\n",
      "          [-0.0232],\n",
      "          [-0.0978],\n",
      "          [ 0.0870],\n",
      "          [-0.1499]]]], grad_fn=<TransposeBackward0>)\n",
      "tensor([[[0.3190, 0.4858],\n",
      "         [0.2943, 0.3897],\n",
      "         [0.2856, 0.3593],\n",
      "         [0.2693, 0.3873],\n",
      "         [0.2639, 0.3928],\n",
      "         [0.2575, 0.4028]],\n",
      "\n",
      "        [[0.3190, 0.4858],\n",
      "         [0.2943, 0.3897],\n",
      "         [0.2856, 0.3593],\n",
      "         [0.2693, 0.3873],\n",
      "         [0.2639, 0.3928],\n",
      "         [0.2575, 0.4028]]], grad_fn=<ViewBackward0>)\n"
     ]
    }
   ],
   "source": [
    "torch.manual_seed(123)\n",
    "batch_size, context_length, d_in = batch.shape\n",
    "d_out = 2\n",
    "mha = MultiHeadAttention(d_in, d_out, context_length, dropout=0.0, num_heads = 2)\n",
    "context_vecs = mha(batch)\n",
    "print(context_vecs)"
   ]
  },
  {
   "cell_type": "code",
   "execution_count": null,
   "id": "d16eb90b-9b4d-4eba-842d-7aa41b1cc14f",
   "metadata": {},
   "outputs": [],
   "source": []
  },
  {
   "cell_type": "code",
   "execution_count": null,
   "id": "288693aa-ebcb-4977-9f27-ed16bbb32e8e",
   "metadata": {},
   "outputs": [],
   "source": []
  },
  {
   "cell_type": "code",
   "execution_count": null,
   "id": "738b1c0a-3fc8-427f-ac81-dc060057060f",
   "metadata": {},
   "outputs": [],
   "source": []
  },
  {
   "cell_type": "code",
   "execution_count": null,
   "id": "3cbb1039-b0f6-4bad-8852-d6e4f52889a1",
   "metadata": {},
   "outputs": [],
   "source": []
  },
  {
   "cell_type": "code",
   "execution_count": null,
   "id": "3f37d4f0-9d21-45b6-8e21-ac8b6da9e884",
   "metadata": {},
   "outputs": [],
   "source": []
  },
  {
   "cell_type": "code",
   "execution_count": null,
   "id": "14f90651-a29d-42c5-ba79-c71f4a5c9900",
   "metadata": {},
   "outputs": [],
   "source": []
  }
 ],
 "metadata": {
  "kernelspec": {
   "display_name": "Python 3 (ipykernel)",
   "language": "python",
   "name": "python3"
  },
  "language_info": {
   "codemirror_mode": {
    "name": "ipython",
    "version": 3
   },
   "file_extension": ".py",
   "mimetype": "text/x-python",
   "name": "python",
   "nbconvert_exporter": "python",
   "pygments_lexer": "ipython3",
   "version": "3.10.14"
  }
 },
 "nbformat": 4,
 "nbformat_minor": 5
}
