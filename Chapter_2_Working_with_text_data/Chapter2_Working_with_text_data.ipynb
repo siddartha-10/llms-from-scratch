{
 "cells": [
  {
   "cell_type": "markdown",
   "id": "2e8c29f5-f760-4434-ac33-948795a82ce1",
   "metadata": {},
   "source": [
    "### This is the chapter 2 of the LLM's from scratch book by sebastian. In this chapter\n",
    "1) Understand and perform tokenization\n",
    "2) Map the tokens to the tokens ID's\n",
    "3) create dynamic embeddings for llm's"
   ]
  },
  {
   "cell_type": "code",
   "execution_count": null,
   "id": "1d3f8c33-7197-4354-b712-1325c1d3df4f",
   "metadata": {},
   "outputs": [],
   "source": []
  }
 ],
 "metadata": {
  "kernelspec": {
   "display_name": "Python 3 (ipykernel)",
   "language": "python",
   "name": "python3"
  },
  "language_info": {
   "codemirror_mode": {
    "name": "ipython",
    "version": 3
   },
   "file_extension": ".py",
   "mimetype": "text/x-python",
   "name": "python",
   "nbconvert_exporter": "python",
   "pygments_lexer": "ipython3",
   "version": "3.10.14"
  }
 },
 "nbformat": 4,
 "nbformat_minor": 5
}
