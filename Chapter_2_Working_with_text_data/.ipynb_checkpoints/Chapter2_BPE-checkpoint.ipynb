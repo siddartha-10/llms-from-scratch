{
 "cells": [
  {
   "cell_type": "code",
   "execution_count": 1,
   "id": "d81b9fd4-b4a4-4883-8bb3-d24fbf702318",
   "metadata": {},
   "outputs": [],
   "source": [
    "import tiktoken"
   ]
  },
  {
   "cell_type": "code",
   "execution_count": 2,
   "id": "62416c3a-9369-4e17-8068-a14be47e2915",
   "metadata": {},
   "outputs": [],
   "source": [
    "tokenizer = tiktoken.get_encoding('gpt2')"
   ]
  },
  {
   "cell_type": "code",
   "execution_count": 12,
   "id": "61905c55-b70f-4be0-aaf5-7b4ba364fe33",
   "metadata": {},
   "outputs": [],
   "source": [
    "text = \"Hi nithu, How are you doing? <|endoftext|>\"\n",
    "integers = tokenizer.encode(text, allowed_special={\"<|endoftext|>\"},)"
   ]
  },
  {
   "cell_type": "code",
   "execution_count": 13,
   "id": "9b49e6d7-07e4-4fc8-a267-bb562601b9dd",
   "metadata": {},
   "outputs": [
    {
     "name": "stdout",
     "output_type": "stream",
     "text": [
      "[17250, 299, 342, 84, 11, 1374, 389, 345, 1804, 30, 220, 50256]\n"
     ]
    }
   ],
   "source": [
    "print(integers)"
   ]
  },
  {
   "cell_type": "code",
   "execution_count": 14,
   "id": "5c73c928-6a64-411c-99e3-e763e5d7e518",
   "metadata": {},
   "outputs": [],
   "source": [
    "text_decode = tokenizer.decode(integers)"
   ]
  },
  {
   "cell_type": "code",
   "execution_count": 15,
   "id": "ac96acbf-5926-4df9-9f75-40aaaaeaa943",
   "metadata": {},
   "outputs": [
    {
     "name": "stdout",
     "output_type": "stream",
     "text": [
      "Hi nithu, How are you doing? <|endoftext|>\n"
     ]
    }
   ],
   "source": [
    "print(text_decode)"
   ]
  },
  {
   "cell_type": "markdown",
   "id": "bbe6591c-19b7-4326-9612-af82b167720d",
   "metadata": {},
   "source": [
    "### Exercise 2.1 "
   ]
  },
  {
   "cell_type": "code",
   "execution_count": 17,
   "id": "38be968f-e8e6-4db5-bc62-1093ca430871",
   "metadata": {},
   "outputs": [
    {
     "name": "stdout",
     "output_type": "stream",
     "text": [
      "[33901, 86, 343, 86, 220, 959]\n"
     ]
    }
   ],
   "source": [
    "text = \"Akwirw ier\"\n",
    "token_id = tokenizer.encode(text)\n",
    "print(token_id)"
   ]
  },
  {
   "cell_type": "code",
   "execution_count": 18,
   "id": "ded31403-d7fd-4f8a-addb-0653821db8d0",
   "metadata": {},
   "outputs": [
    {
     "name": "stdout",
     "output_type": "stream",
     "text": [
      "Akwirw ier\n"
     ]
    }
   ],
   "source": [
    "text_decode = tokenizer.decode(token_id)\n",
    "print(text_decode)"
   ]
  },
  {
   "cell_type": "markdown",
   "id": "7bba130d-0789-4b69-94c1-0e16573b257c",
   "metadata": {},
   "source": [
    "### Building the dataset"
   ]
  },
  {
   "cell_type": "code",
   "execution_count": 19,
   "id": "cdb80695-6f0a-469d-bcc8-94ba19dcbb8b",
   "metadata": {},
   "outputs": [
    {
     "name": "stdout",
     "output_type": "stream",
     "text": [
      "5145\n"
     ]
    }
   ],
   "source": [
    "with open(\"the_verdict.txt\", \"r\", encoding=\"utf-8\") as f:\n",
    "    raw_text = f.read()\n",
    "\n",
    "enc_text = tokenizer.encode(raw_text)\n",
    "print(len(enc_text))"
   ]
  },
  {
   "cell_type": "code",
   "execution_count": 23,
   "id": "d1df142e-8c34-452c-b8dd-ec43e7476e7f",
   "metadata": {},
   "outputs": [],
   "source": [
    "enc_sample = enc_text[50:]"
   ]
  },
  {
   "cell_type": "code",
   "execution_count": 24,
   "id": "2959079c-4881-4f00-b1fd-5d1786c9311f",
   "metadata": {},
   "outputs": [],
   "source": [
    "# x contains the input tokens and y contains the target tokens which are input tokens shifted by 1\n",
    "context_size = 4\n",
    "\n",
    "x = enc_sample[:context_size]\n",
    "y = enc_sample[1:context_size+1]"
   ]
  },
  {
   "cell_type": "code",
   "execution_count": 25,
   "id": "101e954f-90c8-49d8-b196-88903fff206d",
   "metadata": {},
   "outputs": [
    {
     "name": "stdout",
     "output_type": "stream",
     "text": [
      "x: [290, 4920, 2241, 287]\n",
      "y:      [4920, 2241, 287, 257]\n"
     ]
    }
   ],
   "source": [
    "print(f\"x: {x}\")\n",
    "print(f\"y:      {y}\")"
   ]
  },
  {
   "cell_type": "code",
   "execution_count": 26,
   "id": "79715545-63eb-4cde-ab14-0ab02aeed856",
   "metadata": {},
   "outputs": [
    {
     "name": "stdout",
     "output_type": "stream",
     "text": [
      "[290] ------> 4920\n",
      "[290, 4920] ------> 2241\n",
      "[290, 4920, 2241] ------> 287\n",
      "[290, 4920, 2241, 287] ------> 257\n"
     ]
    }
   ],
   "source": [
    "for i in range(1, context_size+1):\n",
    "    context = enc_sample[:i]\n",
    "    desired = enc_sample[i]\n",
    "    print(context, \"------>\", desired)"
   ]
  },
  {
   "cell_type": "code",
   "execution_count": 28,
   "id": "d211340c-e523-45b4-b710-1f1285bcce7c",
   "metadata": {},
   "outputs": [
    {
     "name": "stdout",
     "output_type": "stream",
     "text": [
      " and ----->  established\n",
      " and established ----->  himself\n",
      " and established himself ----->  in\n",
      " and established himself in ----->  a\n"
     ]
    }
   ],
   "source": [
    "for i in range(1, context_size+1):\n",
    "    context = enc_sample[:i]\n",
    "    desired = enc_sample[i]\n",
    "    print(tokenizer.decode(context), \"----->\", tokenizer.decode([desired]))"
   ]
  },
  {
   "cell_type": "code",
   "execution_count": 33,
   "id": "ccd0f04d-a936-4c9e-a2b1-66f7d54481fd",
   "metadata": {},
   "outputs": [],
   "source": [
    "## DataLoader and Dataset in pytorch\n",
    "import torch\n",
    "from torch.utils.data import DataLoader, Dataset\n",
    "\n",
    "class GPTDatasetV1(Dataset):\n",
    "    def __init__(self, txt, tokenizer, max_length, stride):\n",
    "        self.tokenizer = tokenizer\n",
    "        self.input_ids = []\n",
    "        self.target_ids = []\n",
    "\n",
    "        token_ids = tokenizer.encode(txt)\n",
    "\n",
    "        for i in range(0, len(token_ids)-max_length, stride):\n",
    "            input_chunks = token_ids[i:i+max_length]\n",
    "            target_chunks = token_ids[i+1:i+max_length+1]\n",
    "            self.input_ids.append(torch.tensor(input_chunks))\n",
    "            self.target_ids.append(torch.tensor(target_chunks))\n",
    "\n",
    "    def __len__(self):\n",
    "        return len(self.input_ids)\n",
    "\n",
    "    def __getitem__(self, idx):\n",
    "        return self.input_ids[idx], self.target_ids[idx]"
   ]
  },
  {
   "cell_type": "code",
   "execution_count": 51,
   "id": "35ad90b1-ae29-41e2-beeb-98e242105878",
   "metadata": {},
   "outputs": [],
   "source": [
    "def create_dataloader_v1(txt, batch_size=4, max_length=256, stride=128, shuffle=False ,drop_last=True):\n",
    "    tokenizer = tiktoken.get_encoding(\"gpt2\")\n",
    "    dataset = GPTDatasetV1(txt, tokenizer, max_length, stride)\n",
    "    dataloader = DataLoader(dataset, batch_size=batch_size, shuffle=shuffle, drop_last=drop_last)\n",
    "    return dataloader"
   ]
  },
  {
   "cell_type": "code",
   "execution_count": 52,
   "id": "e21c12d1-1c13-4800-b83e-77c42f332db6",
   "metadata": {},
   "outputs": [
    {
     "name": "stdout",
     "output_type": "stream",
     "text": [
      "[tensor([[  40,  367, 2885, 1464]]), tensor([[ 367, 2885, 1464, 1807]])]\n"
     ]
    }
   ],
   "source": [
    "with open(\"the_verdict.txt\", \"r\", encoding=\"utf-8\") as f:\n",
    "    raw_text = f.read()\n",
    "\n",
    "dataloader = create_dataloader_v1(raw_text, batch_size=1, max_length=4, stride=1, shuffle=False)\n",
    "data_iter = iter(dataloader)\n",
    "first_batch = next(data_iter)\n",
    "print(first_batch)"
   ]
  },
  {
   "cell_type": "code",
   "execution_count": 53,
   "id": "9378bfbf-280f-48f7-9b36-125681cf0cce",
   "metadata": {},
   "outputs": [
    {
     "name": "stdout",
     "output_type": "stream",
     "text": [
      "[tensor([[ 367, 2885, 1464, 1807]]), tensor([[2885, 1464, 1807, 3619]])]\n"
     ]
    }
   ],
   "source": [
    "second_batch = next(data_iter)\n",
    "print(second_batch)"
   ]
  },
  {
   "cell_type": "code",
   "execution_count": 54,
   "id": "9ae3d20b-c5ba-448b-b03b-007963e3256c",
   "metadata": {},
   "outputs": [
    {
     "name": "stdout",
     "output_type": "stream",
     "text": [
      "[tensor([[ 40, 367]]), tensor([[ 367, 2885]])]\n"
     ]
    }
   ],
   "source": [
    "dataloader = create_dataloader_v1(raw_text, batch_size=1, max_length=2, stride=2, shuffle=False)\n",
    "data_iter = iter(dataloader)\n",
    "first_batch = next(data_iter)\n",
    "print(first_batch)"
   ]
  },
  {
   "cell_type": "code",
   "execution_count": 55,
   "id": "f5a27f51-2972-41ef-a8ea-1d8b00e5fdbd",
   "metadata": {},
   "outputs": [
    {
     "name": "stdout",
     "output_type": "stream",
     "text": [
      "[tensor([[2885, 1464]]), tensor([[1464, 1807]])]\n"
     ]
    }
   ],
   "source": [
    "second_batch = next(data_iter)\n",
    "print(second_batch)"
   ]
  },
  {
   "cell_type": "code",
   "execution_count": 56,
   "id": "ab593c37-672b-471f-b3cb-c38b98a2deeb",
   "metadata": {},
   "outputs": [
    {
     "name": "stdout",
     "output_type": "stream",
     "text": [
      "[tensor([[  40,  367, 2885, 1464, 1807, 3619,  402,  271]]), tensor([[  367,  2885,  1464,  1807,  3619,   402,   271, 10899]])]\n"
     ]
    }
   ],
   "source": [
    "dataloader = create_dataloader_v1(raw_text, batch_size=1, max_length=8, stride=8, shuffle=False)\n",
    "data_iter = iter(dataloader)\n",
    "first_batch = next(data_iter)\n",
    "print(first_batch)"
   ]
  },
  {
   "cell_type": "code",
   "execution_count": 57,
   "id": "fb84d011-2b11-48cf-98e4-d3e8306e060f",
   "metadata": {},
   "outputs": [
    {
     "name": "stdout",
     "output_type": "stream",
     "text": [
      "[tensor([[10899,  2138,   257,  7026, 15632,   438,  2016,   257]]), tensor([[ 2138,   257,  7026, 15632,   438,  2016,   257,   922]])]\n"
     ]
    }
   ],
   "source": [
    "second_batch = next(data_iter)\n",
    "print(second_batch)"
   ]
  },
  {
   "cell_type": "code",
   "execution_count": 58,
   "id": "d92d99aa-2135-4b3c-b20a-46494aaab0ba",
   "metadata": {},
   "outputs": [
    {
     "name": "stdout",
     "output_type": "stream",
     "text": [
      "inputs: \n",
      " tensor([[   40,   367,  2885,  1464],\n",
      "        [ 1807,  3619,   402,   271],\n",
      "        [10899,  2138,   257,  7026],\n",
      "        [15632,   438,  2016,   257],\n",
      "        [  922,  5891,  1576,   438],\n",
      "        [  568,   340,   373,   645],\n",
      "        [ 1049,  5975,   284,   502],\n",
      "        [  284,  3285,   326,    11]])\n",
      "targets \n",
      " tensor([[  367,  2885,  1464,  1807],\n",
      "        [ 3619,   402,   271, 10899],\n",
      "        [ 2138,   257,  7026, 15632],\n",
      "        [  438,  2016,   257,   922],\n",
      "        [ 5891,  1576,   438,   568],\n",
      "        [  340,   373,   645,  1049],\n",
      "        [ 5975,   284,   502,   284],\n",
      "        [ 3285,   326,    11,   287]])\n"
     ]
    }
   ],
   "source": [
    "# batch_size = 8\n",
    "dataloader = create_dataloader_v1(raw_text, batch_size=8, max_length=4, stride=4, shuffle=False)\n",
    "data_iter = iter(dataloader)\n",
    "inputs, targets = next(data_iter)\n",
    "print(f\"inputs: \\n\", inputs)\n",
    "print(f\"targets \\n\", targets)"
   ]
  },
  {
   "cell_type": "markdown",
   "id": "e1d8502e-8f56-4495-acb7-63409a619dc9",
   "metadata": {},
   "source": [
    "### Converting token_ids to embeddings"
   ]
  },
  {
   "cell_type": "code",
   "execution_count": 59,
   "id": "32673638-5762-4035-815f-ab80a2bb2fd2",
   "metadata": {},
   "outputs": [],
   "source": [
    "input_ids = torch.tensor([2,3,5,1])"
   ]
  },
  {
   "cell_type": "code",
   "execution_count": 60,
   "id": "fd7ab0e7-9275-4565-92a9-2844d89cfa03",
   "metadata": {},
   "outputs": [],
   "source": [
    "vocab_size = 6\n",
    "output_dim = 3"
   ]
  },
  {
   "cell_type": "code",
   "execution_count": 61,
   "id": "9ba5afd8-2a6e-4762-9079-d694f78c8e55",
   "metadata": {},
   "outputs": [
    {
     "name": "stdout",
     "output_type": "stream",
     "text": [
      "Parameter containing:\n",
      "tensor([[ 0.3374, -0.1778, -0.1690],\n",
      "        [ 0.9178,  1.5810,  1.3010],\n",
      "        [ 1.2753, -0.2010, -0.1606],\n",
      "        [-0.4015,  0.9666, -1.1481],\n",
      "        [-1.1589,  0.3255, -0.6315],\n",
      "        [-2.8400, -0.7849, -1.4096]], requires_grad=True)\n"
     ]
    }
   ],
   "source": [
    "torch.manual_seed(123)\n",
    "embedding_layer = torch.nn.Embedding(vocab_size, output_dim)\n",
    "print(embedding_layer.weight)"
   ]
  },
  {
   "cell_type": "code",
   "execution_count": 62,
   "id": "729fc552-f0ca-4e20-bb7a-bf8c26794d78",
   "metadata": {},
   "outputs": [
    {
     "name": "stdout",
     "output_type": "stream",
     "text": [
      "tensor([[-0.4015,  0.9666, -1.1481]], grad_fn=<EmbeddingBackward0>)\n"
     ]
    }
   ],
   "source": [
    "print(embedding_layer(torch.tensor([3])))"
   ]
  },
  {
   "cell_type": "code",
   "execution_count": 63,
   "id": "82068501-b84e-475f-bdee-268f8d849af9",
   "metadata": {},
   "outputs": [
    {
     "name": "stdout",
     "output_type": "stream",
     "text": [
      "tensor([[ 1.2753, -0.2010, -0.1606],\n",
      "        [-0.4015,  0.9666, -1.1481],\n",
      "        [-2.8400, -0.7849, -1.4096],\n",
      "        [ 0.9178,  1.5810,  1.3010]], grad_fn=<EmbeddingBackward0>)\n"
     ]
    }
   ],
   "source": [
    "# applying the embeddings to all the input_ids\n",
    "print(embedding_layer(input_ids))"
   ]
  },
  {
   "cell_type": "markdown",
   "id": "607e299c-47d1-4a27-9c5d-f38125eb8bd8",
   "metadata": {},
   "source": [
    "### Encoding word positions"
   ]
  },
  {
   "cell_type": "markdown",
   "id": "674be0db-b08e-49e7-900d-f304e6cdf0da",
   "metadata": {},
   "source": [
    "#### The embeddings in the above are enough to pass it on to the llm's but because of their self-attention mechanism, doesn't have any idea of\n",
    "#### particular order for the tokens within a sequence, Hence whats happens is that even though the words occur at different position the \n",
    "#### embeddings would be still the same. Hence we add positional embeddings.\n",
    "##### 1) Relative positional embeddings :- this tells how far apart the words tokens are, it helps in generalizability.\n",
    "##### 2) Absolute positional embeddings :- this just tells where the exact position is and is added to the embeddings."
   ]
  },
  {
   "cell_type": "code",
   "execution_count": 65,
   "id": "eb0618a3-a3ce-4142-b1c3-475887432ec0",
   "metadata": {},
   "outputs": [],
   "source": [
    "vocab_size = 50257\n",
    "output_dim = 256\n",
    "token_embedding_layer = torch.nn.Embedding(vocab_size, output_dim) "
   ]
  },
  {
   "cell_type": "code",
   "execution_count": 67,
   "id": "68221c35-7567-4506-9b04-0e7270b144f9",
   "metadata": {},
   "outputs": [
    {
     "name": "stdout",
     "output_type": "stream",
     "text": [
      "Tokens ID's: \n",
      " tensor([[   40,   367,  2885,  1464],\n",
      "        [ 1807,  3619,   402,   271],\n",
      "        [10899,  2138,   257,  7026],\n",
      "        [15632,   438,  2016,   257],\n",
      "        [  922,  5891,  1576,   438],\n",
      "        [  568,   340,   373,   645],\n",
      "        [ 1049,  5975,   284,   502],\n",
      "        [  284,  3285,   326,    11]])\n",
      "Inputs shape: \n",
      " torch.Size([8, 4])\n"
     ]
    }
   ],
   "source": [
    "max_length = 4\n",
    "dataloader = create_dataloader_v1(raw_text, batch_size=8, max_length=max_length, stride=max_length, shuffle=False)\n",
    "data_iter = iter(dataloader)\n",
    "inputs, target = next(data_iter)\n",
    "print(f\"Tokens ID's: \\n\", inputs)\n",
    "print(f\"Inputs shape: \\n\", inputs.shape)"
   ]
  },
  {
   "cell_type": "code",
   "execution_count": 68,
   "id": "b8e19a82-49e8-4fb6-8c52-505fea5b4179",
   "metadata": {},
   "outputs": [],
   "source": [
    "token_embeddings = token_embedding_layer(inputs)"
   ]
  },
  {
   "cell_type": "code",
   "execution_count": 69,
   "id": "0c7a1b54-cedf-4584-a45c-899584685c17",
   "metadata": {},
   "outputs": [
    {
     "name": "stdout",
     "output_type": "stream",
     "text": [
      "torch.Size([8, 4, 256])\n"
     ]
    }
   ],
   "source": [
    "print(token_embeddings.shape)"
   ]
  },
  {
   "cell_type": "code",
   "execution_count": 74,
   "id": "8587700e-c4c9-4bc6-afee-1a4a817fbe99",
   "metadata": {},
   "outputs": [
    {
     "name": "stdout",
     "output_type": "stream",
     "text": [
      "tensor([[ 0.4913,  1.1239,  1.4588,  ..., -0.3995, -1.8735, -0.1445],\n",
      "        [ 0.4481,  0.2536, -0.2655,  ...,  0.4997, -1.1991, -1.1844],\n",
      "        [-0.2507, -0.0546,  0.6687,  ...,  0.9618,  2.3737, -0.0528],\n",
      "        [ 0.9457,  0.8657,  1.6191,  ..., -0.4544, -0.7460,  0.3483]],\n",
      "       grad_fn=<SelectBackward0>)\n"
     ]
    }
   ],
   "source": [
    "print(token_embeddings[0])"
   ]
  },
  {
   "cell_type": "code",
   "execution_count": 71,
   "id": "089d4c2d-c7fa-4c8f-9827-444d8137d2d4",
   "metadata": {},
   "outputs": [
    {
     "name": "stdout",
     "output_type": "stream",
     "text": [
      "torch.Size([4, 256])\n"
     ]
    }
   ],
   "source": [
    "context_length = max_length\n",
    "pos_embedding_layer = torch.nn.Embedding(context_length, output_dim)\n",
    "pos_embeddings = pos_embedding_layer(torch.arange(context_length))\n",
    "print(pos_embeddings.shape)"
   ]
  },
  {
   "cell_type": "code",
   "execution_count": 75,
   "id": "c99c429a-947d-4bf2-b058-383cb63ca830",
   "metadata": {},
   "outputs": [
    {
     "name": "stdout",
     "output_type": "stream",
     "text": [
      "tensor([-8.1935e-01,  5.5432e-01, -8.2901e-01,  6.4718e-02,  1.2654e-01,\n",
      "        -5.1345e-02,  1.3903e+00, -5.9934e-01,  5.6520e-01, -4.7247e-01,\n",
      "         9.8366e-01, -7.2155e-01,  1.0288e+00, -1.1556e-02,  1.2040e+00,\n",
      "        -1.6929e-02,  8.1006e-01, -2.2914e+00, -1.2456e+00, -3.7353e-01,\n",
      "        -1.1398e+00, -2.0937e-01, -1.5919e+00,  8.5969e-01, -1.6815e-01,\n",
      "        -1.2926e-01, -1.2925e+00,  2.9336e+00, -1.0790e+00,  4.7949e-01,\n",
      "         1.0338e+00,  7.6657e-01, -6.3796e-01,  1.7456e+00, -4.9210e-01,\n",
      "         2.9416e-01, -1.2237e-01, -4.0603e-01, -6.2785e-01, -1.8055e-02,\n",
      "        -5.1963e-01,  3.3997e-01,  1.5480e+00,  9.2806e-01, -6.5644e-01,\n",
      "         1.7713e+00, -1.6067e+00, -8.5211e-01, -2.9453e-01, -8.2847e-02,\n",
      "         7.2058e-01, -2.9077e-01,  1.4274e+00,  4.5485e-01,  1.1140e+00,\n",
      "         1.2129e-01, -2.8583e-01, -7.0220e-01, -5.9368e-01,  7.8913e-02,\n",
      "        -2.4745e-01,  1.3596e+00, -1.6196e+00, -2.5436e-01, -1.0689e+00,\n",
      "        -3.1881e-01, -4.3838e-01, -6.7342e-01, -5.3177e-01,  2.0655e-01,\n",
      "        -1.3152e+00, -1.2274e+00, -3.0794e+00,  6.9273e-01,  9.2592e-01,\n",
      "        -7.1126e-01, -8.2625e-01, -2.5144e-01,  3.0578e-01,  3.9147e-01,\n",
      "         1.8587e+00, -3.5975e-01, -2.1894e+00,  8.0928e-01,  1.5225e+00,\n",
      "         1.2340e+00,  6.3721e-01, -1.4849e-01, -3.0909e-01,  1.0153e+00,\n",
      "        -1.5246e+00,  5.8807e-01, -5.0968e-01,  3.9659e-01,  9.2563e-02,\n",
      "         1.3035e+00,  2.8175e-01,  3.5000e-02, -9.3178e-01, -2.2719e+00,\n",
      "         4.5410e-01, -4.9862e-01,  3.8084e-01,  6.4800e-01, -1.5064e-01,\n",
      "         6.4376e-01,  2.9185e+00, -3.8603e-02, -6.4341e-01,  6.5762e-01,\n",
      "        -7.9663e-01, -7.3980e-01, -2.5203e-02, -1.9089e+00, -1.7060e-01,\n",
      "         2.1075e-01,  8.1336e-01, -6.2168e-02, -1.1920e+00,  3.3886e-01,\n",
      "         9.7571e-02,  1.0972e+00, -1.4522e+00, -7.8129e-01, -1.5211e+00,\n",
      "        -1.1797e+00, -2.0689e+00,  1.6498e+00,  3.4299e-01,  8.7667e-01,\n",
      "         1.7777e+00, -2.3513e-01, -1.3605e-01,  2.3842e-01,  7.8776e-01,\n",
      "         3.3981e-01, -4.7054e-01,  4.9516e-01,  2.3545e+00,  5.4876e-01,\n",
      "         2.5891e-01,  6.0601e-01,  8.4255e-01,  2.3304e-01, -1.0470e+00,\n",
      "        -6.8347e-01, -3.5866e-01,  5.8346e-01, -8.8519e-01, -2.4568e+00,\n",
      "         2.0811e+00,  1.7024e-01, -3.9215e-01, -2.1358e+00, -1.1746e+00,\n",
      "         8.2968e-01,  3.3489e-01,  1.4977e-01,  3.3642e-01,  1.1128e+00,\n",
      "         1.3280e+00,  9.1563e-01, -1.2610e+00,  2.1152e+00, -2.6603e+00,\n",
      "         5.3107e-01,  6.0033e-01, -1.5097e+00, -3.5286e-01,  1.0459e+00,\n",
      "        -1.1528e+00,  1.6202e-01, -2.9992e-01, -7.3617e-01, -1.0840e+00,\n",
      "         1.3197e+00,  5.0072e-02,  1.9354e-01,  1.1098e+00, -5.6367e-01,\n",
      "        -3.7914e-01, -2.5835e-01, -2.1722e-01,  1.7036e-01, -2.6541e-01,\n",
      "        -9.8580e-02,  7.1650e-01, -6.5153e-01,  4.6136e-01,  1.3145e+00,\n",
      "         7.1913e-01, -1.7209e+00,  3.4872e-01,  1.2068e+00, -1.0034e+00,\n",
      "         1.9519e+00,  2.0216e+00,  6.4399e-02, -2.2293e+00,  6.0604e-01,\n",
      "         5.6188e-01, -6.5294e-01, -3.9581e-01,  8.1726e-01,  9.5113e-01,\n",
      "        -1.9740e-01,  1.7396e+00,  1.4798e+00,  9.4842e-01, -2.2881e-01,\n",
      "         4.7129e-01, -8.3718e-01, -2.1188e-01, -3.7433e-01, -1.0540e-01,\n",
      "        -1.9653e+00,  9.9605e-01, -2.3260e-03,  1.1440e+00,  8.3010e-01,\n",
      "        -4.3987e-01,  1.2599e-01,  2.6632e-01, -2.1815e+00,  1.3574e+00,\n",
      "        -1.8919e+00,  2.6798e-01,  1.5859e-01,  2.4688e-01, -9.2916e-01,\n",
      "         1.0428e+00, -1.1450e+00, -1.6668e+00, -7.4026e-02,  1.0247e+00,\n",
      "         1.5130e+00,  1.0511e+00,  3.4073e-01, -1.0962e+00, -1.0923e-01,\n",
      "        -1.0742e+00, -8.6001e-01,  4.9872e-01, -1.1175e+00,  6.3515e-01,\n",
      "        -1.6234e+00, -2.3908e-01,  5.6458e-01, -1.0934e+00,  6.3744e-01,\n",
      "         1.0993e-02,  1.5305e+00,  7.2727e-01,  1.3250e-01,  2.1154e-01,\n",
      "         3.6103e-01], grad_fn=<SelectBackward0>)\n"
     ]
    }
   ],
   "source": [
    "print(pos_embeddings[0])"
   ]
  },
  {
   "cell_type": "code",
   "execution_count": 73,
   "id": "7e6f59df-0bfd-4948-b32f-8de013146a76",
   "metadata": {},
   "outputs": [
    {
     "name": "stdout",
     "output_type": "stream",
     "text": [
      "torch.Size([8, 4, 256])\n"
     ]
    }
   ],
   "source": [
    "input_embeddings = token_embeddings + pos_embeddings\n",
    "print(input_embeddings.shape)"
   ]
  },
  {
   "cell_type": "code",
   "execution_count": 77,
   "id": "919d49f1-df95-4d6a-89bd-c4c54a0069a1",
   "metadata": {},
   "outputs": [
    {
     "name": "stdout",
     "output_type": "stream",
     "text": [
      "tensor([[-0.3281,  1.6782,  0.6298,  ..., -0.2670, -1.6620,  0.2165],\n",
      "        [ 0.8674, -0.6925, -0.6063,  ...,  1.2927,  0.5018, -0.6181],\n",
      "        [-0.4869, -1.7733, -0.3802,  ...,  2.0836,  2.6533,  0.9384],\n",
      "        [-0.0091,  1.3356,  1.8771,  ..., -1.8233,  0.9045,  1.6972]],\n",
      "       grad_fn=<SelectBackward0>)\n"
     ]
    }
   ],
   "source": [
    "print(input_embeddings[0])"
   ]
  }
 ],
 "metadata": {
  "kernelspec": {
   "display_name": "Python 3 (ipykernel)",
   "language": "python",
   "name": "python3"
  },
  "language_info": {
   "codemirror_mode": {
    "name": "ipython",
    "version": 3
   },
   "file_extension": ".py",
   "mimetype": "text/x-python",
   "name": "python",
   "nbconvert_exporter": "python",
   "pygments_lexer": "ipython3",
   "version": "3.10.14"
  }
 },
 "nbformat": 4,
 "nbformat_minor": 5
}
