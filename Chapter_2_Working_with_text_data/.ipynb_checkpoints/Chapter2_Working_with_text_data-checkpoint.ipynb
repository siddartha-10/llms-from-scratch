{
 "cells": [
  {
   "cell_type": "markdown",
   "id": "2e8c29f5-f760-4434-ac33-948795a82ce1",
   "metadata": {},
   "source": [
    "### This is the chapter 2 of the LLM's from scratch book by sebastian. In this chapter\n",
    "1) Understand and perform tokenization\n",
    "2) Map the tokens to the tokens ID's\n",
    "3) create dynamic embeddings for llm's"
   ]
  },
  {
   "cell_type": "code",
   "execution_count": 1,
   "id": "1d3f8c33-7197-4354-b712-1325c1d3df4f",
   "metadata": {},
   "outputs": [
    {
     "name": "stdout",
     "output_type": "stream",
     "text": [
      "Total Number of Characters : 20479\n",
      "I HAD always thought Jack Gisburn rather a cheap genius--though a good fellow enough--so it was no \n"
     ]
    }
   ],
   "source": [
    "with open(\"the_verdict.txt\", mode = 'r') as f:\n",
    "    raw_text = f.read()\n",
    "print(\"Total Number of Characters :\", len(raw_text))\n",
    "print(raw_text[:99])"
   ]
  },
  {
   "cell_type": "code",
   "execution_count": 2,
   "id": "c83a6ef8-c278-4fe9-be9e-6ad2e871c304",
   "metadata": {},
   "outputs": [
    {
     "name": "stdout",
     "output_type": "stream",
     "text": [
      "['Hello,', ' ', 'world.', ' ', 'This,', ' ', 'is', ' ', 'a', ' ', 'test.']\n"
     ]
    }
   ],
   "source": [
    "# Simple excersie to split the sentence into a tokens using RE(regular expressions)\n",
    "import re\n",
    "text = \"Hello, world. This, is a test.\"\n",
    "tokens_list = re.split(r'(\\s)', text)\n",
    "print(tokens_list)"
   ]
  },
  {
   "cell_type": "code",
   "execution_count": 6,
   "id": "577021bd-fb63-416f-856b-a845f6b74ce6",
   "metadata": {},
   "outputs": [
    {
     "name": "stdout",
     "output_type": "stream",
     "text": [
      "['Hello', ',', '', ' ', 'world', '.', '', ' ', 'This', ',', '', ' ', 'is', ' ', 'a', ' ', 'test', '.', '']\n"
     ]
    }
   ],
   "source": [
    "# In the above we have only splited the text with white spaces only, but there are words that have punctuations attached to them as well.\n",
    "# so we will also split using the different punctuations as well.\n",
    "tokens_list_1 = re.split(r'([,.]|\\s)', text)\n",
    "print(tokens_list_1) # this list has separated words and also separated punctuations."
   ]
  },
  {
   "cell_type": "code",
   "execution_count": 11,
   "id": "cf484f12-941b-4f6e-be30-daa14e85cfd9",
   "metadata": {},
   "outputs": [
    {
     "name": "stdout",
     "output_type": "stream",
     "text": [
      "['Hello', ',', 'world', '.', 'This', ',', 'is', 'a', 'test', '.']\n"
     ]
    }
   ],
   "source": [
    "# Now we have some extra whitespaces in the list so we need to remove them\n",
    "list_final = [i for i in tokens_list_1 if i.strip()]\n",
    "print(list_final) # In the list_final we do not have any whitespaces."
   ]
  },
  {
   "cell_type": "code",
   "execution_count": 12,
   "id": "9afa3d52-0f9d-47f6-88c4-3cf8b42172b9",
   "metadata": {},
   "outputs": [
    {
     "name": "stdout",
     "output_type": "stream",
     "text": [
      "['Hello', ',', '', ' ', 'world', '.', '', ' ', 'Is', ' ', 'this', '--', '', ' ', 'a', ' ', 'test', '?', '']\n"
     ]
    }
   ],
   "source": [
    "# This block of code is used to handle multiple punctuation marks\n",
    "text = \"Hello, world. Is this-- a test?\"\n",
    "result = re.split(r'([,.:;?_!\"()\\']|--|\\s)', text)\n",
    "print(result)"
   ]
  },
  {
   "cell_type": "code",
   "execution_count": 14,
   "id": "e4440d66-95c3-4cfc-84e7-510e330f4b03",
   "metadata": {},
   "outputs": [
    {
     "name": "stdout",
     "output_type": "stream",
     "text": [
      "['Hello', ',', 'world', '.', 'Is', 'this', '--', 'a', 'test', '?']\n"
     ]
    }
   ],
   "source": [
    "# In the result we have some whitespaces we will strip them\n",
    "result = [i for i in result if i.strip()]\n",
    "print(result)"
   ]
  },
  {
   "cell_type": "code",
   "execution_count": 15,
   "id": "e086af84-0c05-4241-9af2-ade62ce06fd7",
   "metadata": {},
   "outputs": [],
   "source": [
    "import re\n",
    "def tokenizer(text):\n",
    "    regex = r'([,.:;?_!\"()\\']|--|\\s)'\n",
    "    result = re.split(regex, text) # spliting if there are any punctuations, whitespaces etc\n",
    "    result = [i for i in result if i.strip()]\n",
    "    return result"
   ]
  },
  {
   "cell_type": "code",
   "execution_count": 16,
   "id": "1932aa8a-cd11-4b2e-b127-d1a30c7c7605",
   "metadata": {},
   "outputs": [],
   "source": [
    "# Now we will apply our tokenizer for the entire text file\n",
    "tokens = tokenizer(raw_text)"
   ]
  },
  {
   "cell_type": "code",
   "execution_count": 17,
   "id": "0b3aa4ce-491c-4558-8feb-abce02d28655",
   "metadata": {},
   "outputs": [
    {
     "name": "stdout",
     "output_type": "stream",
     "text": [
      "['I', 'HAD', 'always', 'thought', 'Jack', 'Gisburn', 'rather', 'a', 'cheap', 'genius', '--', 'though', 'a', 'good', 'fellow', 'enough', '--', 'so', 'it', 'was', 'no', 'great', 'surprise', 'to', 'me', 'to', 'hear', 'that', ',', 'in', 'the', 'height', 'of', 'his', 'glory', ',', 'he', 'had', 'dropped', 'his', 'painting', ',', 'married', 'a', 'rich']\n"
     ]
    }
   ],
   "source": [
    "print(tokens[:45])"
   ]
  },
  {
   "cell_type": "code",
   "execution_count": null,
   "id": "a23b7e06-c6b9-4b39-b28c-0d096f544264",
   "metadata": {},
   "outputs": [],
   "source": []
  }
 ],
 "metadata": {
  "kernelspec": {
   "display_name": "Python 3 (ipykernel)",
   "language": "python",
   "name": "python3"
  },
  "language_info": {
   "codemirror_mode": {
    "name": "ipython",
    "version": 3
   },
   "file_extension": ".py",
   "mimetype": "text/x-python",
   "name": "python",
   "nbconvert_exporter": "python",
   "pygments_lexer": "ipython3",
   "version": "3.10.14"
  }
 },
 "nbformat": 4,
 "nbformat_minor": 5
}
