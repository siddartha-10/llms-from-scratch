{
 "cells": [
  {
   "cell_type": "code",
   "execution_count": 1,
   "id": "f09db141-52fe-4f82-9355-f40ffa56501d",
   "metadata": {},
   "outputs": [],
   "source": [
    "import torch\n",
    "import torch.nn as nn"
   ]
  },
  {
   "cell_type": "code",
   "execution_count": 2,
   "id": "3890fc70-8b17-481b-9bba-8ef995cf1159",
   "metadata": {},
   "outputs": [],
   "source": [
    "GPT_CONFIG_124M = {\n",
    "    \"vocab_size\": 50257,\n",
    "    \"context_length\": 1024,\n",
    "    \"emb_dim\": 768,\n",
    "    \"n_heads\": 12,\n",
    "    \"n_layers\": 12,\n",
    "    \"drop_rate\": 0.1,\n",
    "    \"qkv_bias\": False\n",
    "}"
   ]
  },
  {
   "cell_type": "markdown",
   "id": "f7472e56-b342-4b3d-9b8e-026080771977",
   "metadata": {},
   "source": [
    "### A Placeholder GPT model architecture class"
   ]
  },
  {
   "cell_type": "code",
   "execution_count": 3,
   "id": "65e4d6a3-850b-40a0-83fb-7cd005b03d99",
   "metadata": {},
   "outputs": [],
   "source": [
    "class DummyGPTModel(nn.Module):\n",
    "    def __init__(self, cfg):\n",
    "        super().__init__()\n",
    "        self.tok_emb = nn.Embedding(cfg['vocab_size'], cfg['emb_dim'])\n",
    "        self.pos_emb = nn.Embedding(cfg['context_length'], cfg['emb_dim'])\n",
    "        self.drop_emb = nn.Dropout(cfg['drop_rate'])\n",
    "        self.trf_blocks = nn.Sequential(\n",
    "            *[DummyTransformerBlock(cfg) for _ in range(cfg['n_layers'])]\n",
    "        )\n",
    "        self.final_norm = DummyLayerNorm(cfg['emb_dim'])\n",
    "        self.out_head = nn.Linear(\n",
    "            cfg['emb_dim'], cfg['vocab_size'], bias = False\n",
    "        )\n",
    "\n",
    "    def forward(self, in_idx):\n",
    "        batch_size, seq_len = in_idx.shape\n",
    "        tok_embeds = self.tok_emb(in_idx)\n",
    "        pos_embeds = self.pos_emb(torch.arange(seq_len, device = in_idx.device))\n",
    "        x = tok_embeds + pos_embeds\n",
    "        x = self.drop_emb(x)\n",
    "        x = self.trf_blocks(x)\n",
    "        x = self.final_norm(x)\n",
    "        logits = self.out_head(x)\n",
    "        return logits\n",
    "\n",
    "class DummyTransformerBlock(nn.Module):\n",
    "    def __init__(self, cfg):\n",
    "        super().__init__()\n",
    "\n",
    "    def forward(self, x):\n",
    "        return x\n",
    "\n",
    "class DummyLayerNorm(nn.Module):\n",
    "    def __init__(self, normalized_shape, eps = 1e-5):\n",
    "        super().__init__()\n",
    "\n",
    "    def forward(self, x):\n",
    "        return x"
   ]
  },
  {
   "cell_type": "markdown",
   "id": "f2389490-de6c-43f8-8885-293d319d4ec2",
   "metadata": {},
   "source": [
    "### Tokenizer using tiktoken"
   ]
  },
  {
   "cell_type": "code",
   "execution_count": 4,
   "id": "6f19d450-5b5d-4f9f-bd94-b1e47755502e",
   "metadata": {},
   "outputs": [],
   "source": [
    "import tiktoken\n",
    "tokenizer = tiktoken.get_encoding(\"gpt2\")\n",
    "\n",
    "batch = []\n",
    "txt1 = \"Every effort moves you\"\n",
    "txt2 = \"Every day holds a\"\n",
    "\n",
    "batch.append(torch.tensor(tokenizer.encode(txt1)))\n",
    "batch.append(torch.tensor(tokenizer.encode(txt2)))"
   ]
  },
  {
   "cell_type": "code",
   "execution_count": 5,
   "id": "8c62cbf8-d446-4fbf-8d89-17059c2db6a8",
   "metadata": {},
   "outputs": [
    {
     "name": "stdout",
     "output_type": "stream",
     "text": [
      "[tensor([6109, 3626, 6100,  345]), tensor([6109, 1110, 6622,  257])]\n"
     ]
    }
   ],
   "source": [
    "print(batch)"
   ]
  },
  {
   "cell_type": "code",
   "execution_count": 6,
   "id": "22766c28-a6f8-42e5-afda-ed0efd704a79",
   "metadata": {},
   "outputs": [
    {
     "name": "stdout",
     "output_type": "stream",
     "text": [
      "tensor([[6109, 3626, 6100,  345],\n",
      "        [6109, 1110, 6622,  257]])\n"
     ]
    }
   ],
   "source": [
    "batch = torch.stack(batch, dim=0)\n",
    "print(batch)"
   ]
  },
  {
   "cell_type": "code",
   "execution_count": 7,
   "id": "f6362d85-67d1-4571-bb42-fc4911fd75fa",
   "metadata": {},
   "outputs": [
    {
     "data": {
      "text/plain": [
       "torch.Size([2, 4])"
      ]
     },
     "execution_count": 7,
     "metadata": {},
     "output_type": "execute_result"
    }
   ],
   "source": [
    "batch.shape"
   ]
  },
  {
   "cell_type": "code",
   "execution_count": 8,
   "id": "00227eed-3b03-4d45-9600-1f69524e1b37",
   "metadata": {},
   "outputs": [],
   "source": [
    "torch.manual_seed(123)\n",
    "model = DummyGPTModel(GPT_CONFIG_124M)\n",
    "logits = model(batch) # here the batch is the stacked version of embeddings of txt1 and txt2"
   ]
  },
  {
   "cell_type": "code",
   "execution_count": 9,
   "id": "9e1bacec-3a17-46ed-97d4-ca0428ba929c",
   "metadata": {},
   "outputs": [
    {
     "name": "stdout",
     "output_type": "stream",
     "text": [
      "shape of the logits:\n",
      " torch.Size([2, 4, 50257])\n",
      "tensor([[[-1.2034,  0.3201, -0.7130,  ..., -1.5548, -0.2390, -0.4667],\n",
      "         [-0.1192,  0.4539, -0.4432,  ...,  0.2392,  1.3469,  1.2430],\n",
      "         [ 0.5307,  1.6720, -0.4695,  ...,  1.1966,  0.0111,  0.5835],\n",
      "         [ 0.0139,  1.6755, -0.3388,  ...,  1.1586, -0.0435, -1.0400]],\n",
      "\n",
      "        [[-1.0908,  0.1798, -0.9484,  ..., -1.6047,  0.2439, -0.4530],\n",
      "         [-0.7860,  0.5581, -0.0610,  ...,  0.4835, -0.0077,  1.6621],\n",
      "         [ 0.3567,  1.2698, -0.6398,  ..., -0.0162, -0.1296,  0.3717],\n",
      "         [-0.2407, -0.7349, -0.5102,  ...,  2.0057, -0.3694,  0.1814]]],\n",
      "       grad_fn=<UnsafeViewBackward0>)\n"
     ]
    }
   ],
   "source": [
    "print(\"shape of the logits:\\n\", logits.shape)\n",
    "print(logits)"
   ]
  },
  {
   "cell_type": "code",
   "execution_count": 10,
   "id": "e0308a3c-ea05-4b6d-b3d2-124b581f01eb",
   "metadata": {},
   "outputs": [
    {
     "name": "stdout",
     "output_type": "stream",
     "text": [
      "torch.Size([2, 4, 50257])\n"
     ]
    }
   ],
   "source": [
    "print(logits.shape)"
   ]
  },
  {
   "cell_type": "markdown",
   "id": "fe796332-36af-4657-8e9d-2960934dbe7e",
   "metadata": {},
   "source": [
    "### Example for layer normalization"
   ]
  },
  {
   "cell_type": "code",
   "execution_count": 11,
   "id": "8450566c-5fc6-46ed-9040-4d3c5d0a3e57",
   "metadata": {},
   "outputs": [],
   "source": [
    "torch.manual_seed(123)\n",
    "batch_example = torch.randn(2,5)"
   ]
  },
  {
   "cell_type": "code",
   "execution_count": 12,
   "id": "d1a6eb26-5903-49cd-9aa3-165ef0fbf97d",
   "metadata": {},
   "outputs": [
    {
     "name": "stdout",
     "output_type": "stream",
     "text": [
      "tensor([[-0.1115,  0.1204, -0.3696, -0.2404, -1.1969],\n",
      "        [ 0.2093, -0.9724, -0.7550,  0.3239, -0.1085]])\n"
     ]
    }
   ],
   "source": [
    "print(batch_example)"
   ]
  },
  {
   "cell_type": "code",
   "execution_count": 13,
   "id": "52cca5d0-ee35-4e19-95f1-cfd94f123d17",
   "metadata": {},
   "outputs": [],
   "source": [
    "layer = nn.Sequential(nn.Linear(5,6), nn.ReLU())\n",
    "out = layer(batch_example)"
   ]
  },
  {
   "cell_type": "code",
   "execution_count": 14,
   "id": "bd908f92-e802-48e3-9926-0888b14ce244",
   "metadata": {},
   "outputs": [
    {
     "name": "stdout",
     "output_type": "stream",
     "text": [
      "tensor([[0.2260, 0.3470, 0.0000, 0.2216, 0.0000, 0.0000],\n",
      "        [0.2133, 0.2394, 0.0000, 0.5198, 0.3297, 0.0000]],\n",
      "       grad_fn=<ReluBackward0>)\n"
     ]
    }
   ],
   "source": [
    "print(out)"
   ]
  },
  {
   "cell_type": "code",
   "execution_count": 15,
   "id": "eb194d41-b6fd-4969-9438-6605c3d1e83b",
   "metadata": {},
   "outputs": [
    {
     "name": "stdout",
     "output_type": "stream",
     "text": [
      "Mean:  tensor([[0.1324],\n",
      "        [0.2170]], grad_fn=<MeanBackward1>)\n",
      "variance:  tensor([[0.0231],\n",
      "        [0.0398]], grad_fn=<VarBackward0>)\n"
     ]
    }
   ],
   "source": [
    "mean = out.mean(dim=1, keepdims=True)\n",
    "variance = out.var(dim=1, keepdims=True)\n",
    "print(\"Mean: \", mean)\n",
    "print(\"variance: \", variance)"
   ]
  },
  {
   "cell_type": "code",
   "execution_count": 16,
   "id": "4de26cc8-4cde-4d1e-b7da-df161790c550",
   "metadata": {},
   "outputs": [
    {
     "name": "stdout",
     "output_type": "stream",
     "text": [
      "Mean:  tensor([[    0.0000],\n",
      "        [    0.0000]], grad_fn=<MeanBackward1>)\n",
      "variance:  tensor([[1.],\n",
      "        [1.]], grad_fn=<VarBackward0>)\n"
     ]
    }
   ],
   "source": [
    "torch.set_printoptions(sci_mode=False)\n",
    "out_norm = (out - mean) / torch.sqrt(variance)\n",
    "mean = out_norm.mean(dim=1, keepdims=True)\n",
    "variance = out_norm.var(dim=1, keepdims=True)\n",
    "print(\"Mean: \", mean)\n",
    "print(\"variance: \", variance)"
   ]
  },
  {
   "cell_type": "code",
   "execution_count": 17,
   "id": "f0b47805-3866-45b2-9094-bb866362761d",
   "metadata": {},
   "outputs": [
    {
     "name": "stdout",
     "output_type": "stream",
     "text": [
      "tensor([[ 0.6159,  1.4126, -0.8719,  0.5872, -0.8719, -0.8719],\n",
      "        [-0.0189,  0.1121, -1.0876,  1.5173,  0.5647, -1.0876]],\n",
      "       grad_fn=<DivBackward0>)\n"
     ]
    }
   ],
   "source": [
    "print(out_norm)"
   ]
  },
  {
   "cell_type": "markdown",
   "id": "d90eab8f-129d-4d5c-a132-d9fb6c7027e1",
   "metadata": {},
   "source": [
    "### Implementing layer normalization"
   ]
  },
  {
   "cell_type": "code",
   "execution_count": 18,
   "id": "f0b74bea-9bf5-4123-b870-54a4757893ed",
   "metadata": {},
   "outputs": [],
   "source": [
    "class LayerNorm(nn.Module):\n",
    "    def __init__(self, emb_dim):\n",
    "        super().__init__()\n",
    "        self.eps = 1e-5\n",
    "        self.scale = nn.Parameter(torch.ones(emb_dim))\n",
    "        self.shift = nn.Parameter(torch.zeros(emb_dim))\n",
    "\n",
    "    def forward(self, x):\n",
    "        mean = x.mean(dim=-1, keepdims=True)\n",
    "        var = x.var(dim=-1, keepdims=True, unbiased = False)\n",
    "        norm_x = (x - mean) / torch.sqrt(var + self.eps)\n",
    "        return self.scale * norm_x + self.shift"
   ]
  },
  {
   "cell_type": "code",
   "execution_count": 19,
   "id": "4cc85772-6ef0-475d-b0fd-d9a4ff759ef3",
   "metadata": {},
   "outputs": [
    {
     "name": "stdout",
     "output_type": "stream",
     "text": [
      "tensor([[    -0.0000],\n",
      "        [     0.0000]], grad_fn=<MeanBackward1>)   tensor([[1.0000],\n",
      "        [1.0000]], grad_fn=<VarBackward0>)\n"
     ]
    }
   ],
   "source": [
    "model = LayerNorm(emb_dim=5)\n",
    "out_ln = model(batch_example)\n",
    "mean = out_ln.mean(dim=-1, keepdims=True)\n",
    "var = out_ln.var(dim=-1, keepdims=True, unbiased = False)\n",
    "print(mean, \" \", var)"
   ]
  },
  {
   "cell_type": "markdown",
   "id": "1922f4c6-0986-4c4f-90ea-ef0ff05d0f26",
   "metadata": {},
   "source": [
    "### Implementing a feedforward neural network with GELU activations\n",
    "1) Learn about GELU and SwiGLU\n",
    "###### GELU(x) =  0.5 * x * (1 + tanh[sqrt((2/pi)) * (x + 0.044715 * x^3)])"
   ]
  },
  {
   "cell_type": "markdown",
   "id": "1cdc6aa2-cb5b-4f05-96fa-4fef63d53f26",
   "metadata": {},
   "source": [
    "##### Implementing the GELU activation function"
   ]
  },
  {
   "cell_type": "code",
   "execution_count": 20,
   "id": "514045fb-c144-4b37-93a7-1f444416082d",
   "metadata": {},
   "outputs": [],
   "source": [
    "class GELU(nn.Module):\n",
    "    def __init__(self):\n",
    "        super().__init__()\n",
    "\n",
    "    def forward(self, x):\n",
    "        return 0.5 * x * (1 + torch.tanh(torch.sqrt(torch.tensor(2.0 / torch.pi)) * (x + 0.044715 * torch.pow(x, 3))))"
   ]
  },
  {
   "cell_type": "code",
   "execution_count": 21,
   "id": "59fdbe0c-72fe-4ceb-bf6c-e825b6de1dd4",
   "metadata": {},
   "outputs": [
    {
     "data": {
      "image/png": "[encoded data removed]",
      "text/plain": [
       "<Figure size 1000x300 with 3 Axes>"
      ]
     },
     "metadata": {},
     "output_type": "display_data"
    }
   ],
   "source": [
    "import matplotlib.pyplot as plt\n",
    "gelu, relu, leakyrelu = GELU(), nn.ReLU(), nn.LeakyReLU()\n",
    "\n",
    "x = torch.linspace(-3, 3, 100)\n",
    "y_gelu, y_relu, y_leakyrelu = gelu(x), relu(x), leakyrelu(x)\n",
    "plt.figure(figsize=(10,3))\n",
    "for i, (y, label) in enumerate(zip([y_gelu, y_relu, y_leakyrelu], [\"GELU\", \"ReLU\", \"LeakyReLU\"]), 1):\n",
    "    plt.subplot(1,3,i)\n",
    "    plt.plot(x,y)\n",
    "    plt.title(f\"{label} activation function\")\n",
    "    plt.xlabel(\"x\")\n",
    "    plt.ylabel(f\"{label}(x)\")\n",
    "    plt.grid(True)\n",
    "plt.tight_layout()\n",
    "plt.show()"
   ]
  },
  {
   "cell_type": "markdown",
   "id": "9ae25ba7-13b5-402e-b261-a78f7fe0c889",
   "metadata": {},
   "source": [
    "### Implementing a feeback forward neural network block"
   ]
  },
  {
   "cell_type": "code",
   "execution_count": 22,
   "id": "75e44dcd-fe96-4b96-ac51-6d1018ec0ac7",
   "metadata": {},
   "outputs": [],
   "source": [
    "class FeedForward(nn.Module):\n",
    "    def __init__(self, cfg):\n",
    "        super().__init__()\n",
    "        self.layers = nn.Sequential(\n",
    "            nn.Linear(cfg['emb_dim'], 4*cfg['emb_dim']),\n",
    "            GELU(),\n",
    "            nn.Linear(4*cfg['emb_dim'], cfg['emb_dim'])\n",
    "        )\n",
    "\n",
    "    def forward(self, x):\n",
    "        return self.layers(x)"
   ]
  },
  {
   "cell_type": "code",
   "execution_count": 23,
   "id": "33d41200-b2ae-4369-9cc2-d7a565207c4c",
   "metadata": {},
   "outputs": [
    {
     "name": "stdout",
     "output_type": "stream",
     "text": [
      "torch.Size([2, 3, 768])\n"
     ]
    }
   ],
   "source": [
    "ffn = FeedForward(GPT_CONFIG_124M)\n",
    "out = ffn(torch.rand(2,3,768))\n",
    "print(out.shape)"
   ]
  },
  {
   "cell_type": "markdown",
   "id": "0816ba82-c8cb-4f2a-8690-722c1b815165",
   "metadata": {},
   "source": [
    "### Adding skip or residual connections\n",
    "1) these skip connections were used to mitigate the vanishing gradient problem, due to some of the weights being small and during backprop\n",
    "    they become much smaller, making it difficult to train the earlier layers."
   ]
  },
  {
   "cell_type": "code",
   "execution_count": 24,
   "id": "5159c26d-e789-4d6d-b979-40c954194d16",
   "metadata": {},
   "outputs": [],
   "source": [
    "class ExampleDeepNeuralNetwork(nn.Module):\n",
    "    def __init__(self, layer_sizes, use_shortcut):\n",
    "        super().__init__()\n",
    "        self.use_shortcut = use_shortcut\n",
    "        self.layers = nn.ModuleList([\n",
    "            nn.Sequential(nn.Linear(layer_sizes[0], layer_sizes[1]), GELU()),\n",
    "            nn.Sequential(nn.Linear(layer_sizes[1], layer_sizes[2]), GELU()),\n",
    "            nn.Sequential(nn.Linear(layer_sizes[2], layer_sizes[3]), GELU()),\n",
    "            nn.Sequential(nn.Linear(layer_sizes[3], layer_sizes[4]), GELU()),\n",
    "            nn.Sequential(nn.Linear(layer_sizes[4], layer_sizes[5]), GELU()),]\n",
    "        )\n",
    "\n",
    "    def forward(self, x):\n",
    "        for layer in self.layers:\n",
    "            layer_output = layer(x)\n",
    "            if self.use_shortcut and x.shape == layer_output.shape:\n",
    "                x = x + layer_output\n",
    "            else:\n",
    "                x = layer_output\n",
    "        return x"
   ]
  },
  {
   "cell_type": "code",
   "execution_count": 25,
   "id": "714759cd-e8f8-4d4a-95e3-b3b503e23e89",
   "metadata": {},
   "outputs": [],
   "source": [
    "### Example usage without the shortcut connections or residual connections\n",
    "layer_sizes = [3,3,3,3,3,1]\n",
    "x = torch.tensor([1.0, 0.0, -1.0])\n",
    "torch.manual_seed(123)\n",
    "network = ExampleDeepNeuralNetwork(layer_sizes, use_shortcut=False)"
   ]
  },
  {
   "cell_type": "code",
   "execution_count": 26,
   "id": "a99b6464-e304-4f43-ac2e-51d6d112f48e",
   "metadata": {},
   "outputs": [],
   "source": [
    "def print_gradients(model, x):\n",
    "    outputs = model(x)\n",
    "    target  = torch.tensor([0.0])\n",
    "\n",
    "    loss = nn.MSELoss()\n",
    "    loss = loss(outputs, target)\n",
    "\n",
    "    loss.backward()\n",
    "\n",
    "    for name, param in model.named_parameters():\n",
    "        if 'weight' in name:\n",
    "            print(f\"{name} has gradient mean of {param.grad.abs().mean().item()}\")"
   ]
  },
  {
   "cell_type": "code",
   "execution_count": 27,
   "id": "164b9c3e-1908-4981-b66d-77af5261b539",
   "metadata": {},
   "outputs": [
    {
     "name": "stdout",
     "output_type": "stream",
     "text": [
      "layers.0.0.weight has gradient mean of 0.00020173587836325169\n",
      "layers.1.0.weight has gradient mean of 0.0001201116101583466\n",
      "layers.2.0.weight has gradient mean of 0.0007152041653171182\n",
      "layers.3.0.weight has gradient mean of 0.001398873864673078\n",
      "layers.4.0.weight has gradient mean of 0.005049646366387606\n"
     ]
    }
   ],
   "source": [
    "print_gradients(network, x)"
   ]
  },
  {
   "cell_type": "code",
   "execution_count": 28,
   "id": "5394356d-0bea-40bd-8530-d751e256ffeb",
   "metadata": {},
   "outputs": [],
   "source": [
    "### Example usage with the shortcut connections or residual connections\n",
    "layer_sizes = [3,3,3,3,3,1]\n",
    "x = torch.tensor([1.0, 0.0, -1.0])\n",
    "torch.manual_seed(123)\n",
    "network = ExampleDeepNeuralNetwork(layer_sizes, use_shortcut=True)"
   ]
  },
  {
   "cell_type": "code",
   "execution_count": 29,
   "id": "48d93b09-948d-4b4a-bf9b-353ba5ad410a",
   "metadata": {},
   "outputs": [
    {
     "name": "stdout",
     "output_type": "stream",
     "text": [
      "layers.0.0.weight has gradient mean of 0.22169792652130127\n",
      "layers.1.0.weight has gradient mean of 0.20694105327129364\n",
      "layers.2.0.weight has gradient mean of 0.32896995544433594\n",
      "layers.3.0.weight has gradient mean of 0.2665732502937317\n",
      "layers.4.0.weight has gradient mean of 1.3258541822433472\n"
     ]
    }
   ],
   "source": [
    "print_gradients(network, x)"
   ]
  },
  {
   "cell_type": "markdown",
   "id": "297ab048-a2bc-47d3-995c-3dbda5f39acb",
   "metadata": {},
   "source": [
    "### Implementing a transformer block"
   ]
  },
  {
   "cell_type": "code",
   "execution_count": 30,
   "id": "fde15ee2-36cf-4173-b42c-58d2f497f851",
   "metadata": {},
   "outputs": [],
   "source": [
    "## Please visit the GPT-2-LLM in github for transformer block"
   ]
  },
  {
   "cell_type": "code",
   "execution_count": null,
   "id": "d0ab6cab-b713-44e0-95a5-5d63a7bc707d",
   "metadata": {},
   "outputs": [],
   "source": []
  },
  {
   "cell_type": "code",
   "execution_count": null,
   "id": "45826ab1-ad5e-442f-8783-b2c30f329dec",
   "metadata": {},
   "outputs": [],
   "source": []
  },
  {
   "cell_type": "code",
   "execution_count": null,
   "id": "7d78ab38-dc4b-463b-8cdd-b363ae9f6ea2",
   "metadata": {},
   "outputs": [],
   "source": []
  },
  {
   "cell_type": "code",
   "execution_count": null,
   "id": "0e90f664-fb90-49b7-971f-6d746c8a9d7e",
   "metadata": {},
   "outputs": [],
   "source": []
  },
  {
   "cell_type": "code",
   "execution_count": null,
   "id": "a7efd3da-1da8-4a03-9ff9-a63a4291092e",
   "metadata": {},
   "outputs": [],
   "source": []
  }
 ],
 "metadata": {
  "kernelspec": {
   "display_name": "Python 3 (ipykernel)",
   "language": "python",
   "name": "python3"
  },
  "language_info": {
   "codemirror_mode": {
    "name": "ipython",
    "version": 3
   },
   "file_extension": ".py",
   "mimetype": "text/x-python",
   "name": "python",
   "nbconvert_exporter": "python",
   "pygments_lexer": "ipython3",
   "version": "3.10.14"
  }
 },
 "nbformat": 4,
 "nbformat_minor": 5
}
