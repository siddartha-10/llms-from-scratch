{
 "cells": [
  {
   "cell_type": "markdown",
   "id": "632997a7-1637-4990-9246-d4c30d7f3c51",
   "metadata": {},
   "source": [
    "## Attention Mechanisms\n",
    "1) Reasons for using attention in neural networks\n",
    "2) Basic self-attention and also self-attention\n",
    "3) Implementing Causal attention that allows LLM's to generate one token at a time\n",
    "4) Masking random selected attention weights with dropout to reduce overfitting\n",
    "5) Stacking multiple causal attention into a Multi-head attention module"
   ]
  },
  {
   "cell_type": "code",
   "execution_count": 1,
   "id": "e8b0b291-142e-45f9-91ee-3fdbedb3f32e",
   "metadata": {},
   "outputs": [],
   "source": [
    "import torch\n",
    "inputs = torch.tensor(\n",
    "    [[0.43, 0.15, 0.89],\n",
    "    [0.55, 0.87, 0.66],\n",
    "    [0.57, 0.85, 0.64],\n",
    "    [0.22, 0.58, 0.33],\n",
    "    [0.77, 0.25, 0.10],\n",
    "    [0.05, 0.80, 0.55]]\n",
    ")"
   ]
  },
  {
   "cell_type": "code",
   "execution_count": 2,
   "id": "b285a11c-81fa-4732-87d0-b30162f21bee",
   "metadata": {},
   "outputs": [
    {
     "name": "stdout",
     "output_type": "stream",
     "text": [
      "tensor([0.9544, 1.4950, 1.4754, 0.8434, 0.7070, 1.0865])\n"
     ]
    }
   ],
   "source": [
    "query = inputs[1]\n",
    "atten_scores2 = torch.empty(inputs.shape[0])\n",
    "for i, x_i in enumerate(inputs):\n",
    "    atten_scores2[i] = torch.dot(x_i, query)\n",
    "print(atten_scores2)"
   ]
  },
  {
   "cell_type": "code",
   "execution_count": 3,
   "id": "679ff3a3-e4ff-4316-9269-8312ed122bbb",
   "metadata": {},
   "outputs": [
    {
     "name": "stdout",
     "output_type": "stream",
     "text": [
      "attention weights:  tensor([0.1455, 0.2278, 0.2249, 0.1285, 0.1077, 0.1656])\n",
      "tensor(1.0000)\n"
     ]
    }
   ],
   "source": [
    "# normalizing the attention weights so they sum to 1\n",
    "atten_weights_2_tmp = atten_scores2 / atten_scores2.sum()\n",
    "print(\"attention weights: \", atten_weights_2_tmp)\n",
    "print(atten_weights_2_tmp.sum())"
   ]
  },
  {
   "cell_type": "code",
   "execution_count": 4,
   "id": "de0f9807-7cd2-49d3-a1f5-28866da5fe6c",
   "metadata": {},
   "outputs": [
    {
     "name": "stdout",
     "output_type": "stream",
     "text": [
      "Attention weights naive:  tensor([0.1385, 0.2379, 0.2333, 0.1240, 0.1082, 0.1581])\n",
      "tensor(1.)\n"
     ]
    }
   ],
   "source": [
    "# using softmax to do normalization\n",
    "def softmax_naive(x):\n",
    "    return torch.exp(x) / (torch.exp(x).sum(dim=0))\n",
    "\n",
    "atten_weights_2_naive = softmax_naive(atten_scores2)\n",
    "print(\"Attention weights naive: \", atten_weights_2_naive)\n",
    "print(atten_weights_2_naive.sum())"
   ]
  },
  {
   "cell_type": "code",
   "execution_count": 5,
   "id": "86aa101f-7e4d-4244-8cf0-213259892eba",
   "metadata": {},
   "outputs": [
    {
     "name": "stdout",
     "output_type": "stream",
     "text": [
      "Attention weights torch.softmax:  tensor([0.1385, 0.2379, 0.2333, 0.1240, 0.1082, 0.1581])\n",
      "tensor(1.)\n"
     ]
    }
   ],
   "source": [
    "# using the inbuilt torch.softmax\n",
    "atten_weights_2 = torch.softmax(atten_scores2, dim=0)\n",
    "print(\"Attention weights torch.softmax: \", atten_weights_2)\n",
    "print(atten_weights_2.sum())"
   ]
  },
  {
   "cell_type": "code",
   "execution_count": 6,
   "id": "6ec557ec-5e01-4ef8-919e-0c9df21e7415",
   "metadata": {},
   "outputs": [
    {
     "name": "stdout",
     "output_type": "stream",
     "text": [
      "tensor([0.4419, 0.6515, 0.5683])\n"
     ]
    }
   ],
   "source": [
    "query = inputs[1]\n",
    "context_vec_2 = torch.zeros(query.shape)\n",
    "for i, x_i in enumerate(inputs):\n",
    "    context_vec_2 += atten_weights_2[i] * x_i\n",
    "print(context_vec_2)"
   ]
  },
  {
   "cell_type": "code",
   "execution_count": 7,
   "id": "36d26acc-609e-4ff0-9784-c1550f0a8b9d",
   "metadata": {},
   "outputs": [
    {
     "name": "stdout",
     "output_type": "stream",
     "text": [
      "tensor([[0.9995, 0.9544, 0.9422, 0.4753, 0.4576, 0.6310],\n",
      "        [0.9544, 1.4950, 1.4754, 0.8434, 0.7070, 1.0865],\n",
      "        [0.9422, 1.4754, 1.4570, 0.8296, 0.7154, 1.0605],\n",
      "        [0.4753, 0.8434, 0.8296, 0.4937, 0.3474, 0.6565],\n",
      "        [0.4576, 0.7070, 0.7154, 0.3474, 0.6654, 0.2935],\n",
      "        [0.6310, 1.0865, 1.0605, 0.6565, 0.2935, 0.9450]])\n"
     ]
    }
   ],
   "source": [
    "attention_scores = torch.empty(6,6)\n",
    "for i, x_i in enumerate(inputs):\n",
    "    for j, x_j in enumerate(inputs):\n",
    "        attention_scores[i,j] = torch.dot(x_i, x_j)\n",
    "\n",
    "print(attention_scores)"
   ]
  },
  {
   "cell_type": "code",
   "execution_count": 8,
   "id": "2076bae3-fc97-4fda-b311-d67213d8a840",
   "metadata": {},
   "outputs": [
    {
     "name": "stdout",
     "output_type": "stream",
     "text": [
      "tensor([[0.9995, 0.9544, 0.9422, 0.4753, 0.4576, 0.6310],\n",
      "        [0.9544, 1.4950, 1.4754, 0.8434, 0.7070, 1.0865],\n",
      "        [0.9422, 1.4754, 1.4570, 0.8296, 0.7154, 1.0605],\n",
      "        [0.4753, 0.8434, 0.8296, 0.4937, 0.3474, 0.6565],\n",
      "        [0.4576, 0.7070, 0.7154, 0.3474, 0.6654, 0.2935],\n",
      "        [0.6310, 1.0865, 1.0605, 0.6565, 0.2935, 0.9450]])\n"
     ]
    }
   ],
   "source": [
    "attention_scores_2 = inputs @ inputs.T\n",
    "print(attention_scores_2)"
   ]
  },
  {
   "cell_type": "code",
   "execution_count": 9,
   "id": "21163b51-da62-413e-8824-a410673d5065",
   "metadata": {},
   "outputs": [
    {
     "name": "stdout",
     "output_type": "stream",
     "text": [
      "tensor([[0.2098, 0.2006, 0.1981, 0.1242, 0.1220, 0.1452],\n",
      "        [0.1385, 0.2379, 0.2333, 0.1240, 0.1082, 0.1581],\n",
      "        [0.1390, 0.2369, 0.2326, 0.1242, 0.1108, 0.1565],\n",
      "        [0.1435, 0.2074, 0.2046, 0.1462, 0.1263, 0.1720],\n",
      "        [0.1526, 0.1958, 0.1975, 0.1367, 0.1879, 0.1295],\n",
      "        [0.1385, 0.2184, 0.2128, 0.1420, 0.0988, 0.1896]])\n"
     ]
    }
   ],
   "source": [
    "attention_weights = torch.softmax(attention_scores_2, dim=1)\n",
    "print(attention_weights)"
   ]
  },
  {
   "cell_type": "code",
   "execution_count": 10,
   "id": "a46d73d8-81bb-4569-af8f-29753207e780",
   "metadata": {},
   "outputs": [
    {
     "name": "stdout",
     "output_type": "stream",
     "text": [
      "Row 2 Sum:  1.0\n",
      "ALL Rows sums:  tensor([1.0000, 1.0000, 1.0000, 1.0000, 1.0000, 1.0000])\n"
     ]
    }
   ],
   "source": [
    "row_2_sum = sum([0.1385, 0.2379, 0.2333, 0.1240, 0.1082, 0.1581])\n",
    "print(\"Row 2 Sum: \", row_2_sum)\n",
    "print(\"ALL Rows sums: \", attention_weights.sum(dim=1))"
   ]
  },
  {
   "cell_type": "code",
   "execution_count": 11,
   "id": "782d143d-d103-4664-8d5e-da6f5462049f",
   "metadata": {},
   "outputs": [
    {
     "name": "stdout",
     "output_type": "stream",
     "text": [
      "tensor([[0.4421, 0.5931, 0.5790],\n",
      "        [0.4419, 0.6515, 0.5683],\n",
      "        [0.4431, 0.6496, 0.5671],\n",
      "        [0.4304, 0.6298, 0.5510],\n",
      "        [0.4671, 0.5910, 0.5266],\n",
      "        [0.4177, 0.6503, 0.5645]])\n"
     ]
    }
   ],
   "source": [
    "all_context_vecs = attention_weights @ inputs\n",
    "print(all_context_vecs)"
   ]
  },
  {
   "cell_type": "code",
   "execution_count": null,
   "id": "934c7901-1642-4bbd-bc77-78d980fe80c0",
   "metadata": {},
   "outputs": [],
   "source": []
  },
  {
   "cell_type": "code",
   "execution_count": null,
   "id": "afbd3eb1-2c79-490e-9c9d-6ad8a869c8fb",
   "metadata": {},
   "outputs": [],
   "source": []
  },
  {
   "cell_type": "code",
   "execution_count": null,
   "id": "72e82891-9c9f-4070-99c6-8e2089acfd19",
   "metadata": {},
   "outputs": [],
   "source": []
  },
  {
   "cell_type": "code",
   "execution_count": null,
   "id": "75805bbf-0978-41c0-92bc-55e58bf4517d",
   "metadata": {},
   "outputs": [],
   "source": []
  },
  {
   "cell_type": "code",
   "execution_count": null,
   "id": "a5bc784e-6030-4bed-a9df-8a9de4d80d34",
   "metadata": {},
   "outputs": [],
   "source": []
  }
 ],
 "metadata": {
  "kernelspec": {
   "display_name": "Python 3 (ipykernel)",
   "language": "python",
   "name": "python3"
  },
  "language_info": {
   "codemirror_mode": {
    "name": "ipython",
    "version": 3
   },
   "file_extension": ".py",
   "mimetype": "text/x-python",
   "name": "python",
   "nbconvert_exporter": "python",
   "pygments_lexer": "ipython3",
   "version": "3.10.14"
  }
 },
 "nbformat": 4,
 "nbformat_minor": 5
}
