{
 "cells": [
  {
   "cell_type": "markdown",
   "id": "632997a7-1637-4990-9246-d4c30d7f3c51",
   "metadata": {},
   "source": [
    "## Attention Mechanisms\n",
    "1) Reasons for using attention in neural networks\n",
    "2) Basic self-attention and also self-attention\n",
    "3) Implementing Causal attention that allows LLM's to generate one token at a time\n",
    "4) Masking random selected attention weights with dropout to reduce overfitting\n",
    "5) Stacking multiple causal attention into a Multi-head attention module"
   ]
  },
  {
   "cell_type": "code",
   "execution_count": null,
   "id": "e8b0b291-142e-45f9-91ee-3fdbedb3f32e",
   "metadata": {},
   "outputs": [],
   "source": []
  }
 ],
 "metadata": {
  "kernelspec": {
   "display_name": "Python 3 (ipykernel)",
   "language": "python",
   "name": "python3"
  },
  "language_info": {
   "codemirror_mode": {
    "name": "ipython",
    "version": 3
   },
   "file_extension": ".py",
   "mimetype": "text/x-python",
   "name": "python",
   "nbconvert_exporter": "python",
   "pygments_lexer": "ipython3",
   "version": "3.10.14"
  }
 },
 "nbformat": 4,
 "nbformat_minor": 5
}
